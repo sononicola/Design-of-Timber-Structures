{
 "cells": [
  {
   "cell_type": "code",
   "execution_count": 1,
   "metadata": {},
   "outputs": [],
   "source": [
    "import numpy as np\n",
    "from StrengthClasses.glulam_strength_classes import glulam"
   ]
  },
  {
   "cell_type": "code",
   "execution_count": 2,
   "metadata": {},
   "outputs": [],
   "source": [
    "glulam_class = 'GL28h'\n",
    "kmod = 0.9\n",
    "gammaM = 1.45\n",
    "\n",
    "# Sollecitazione di progetto:\n",
    "Q = 3.0815 #kN/m == N/mm\n",
    "SLE_rara_perm = 0.23+0.545 # g1 e g2\n",
    "SLE_rara_acc1 = 1.31 #carico accidentale principale\n",
    "# SLE_rara_acc2 =  eventualmente aggiungerlo e de-commentare nella W_net\n",
    "\n",
    "# Per gli SLE\n",
    "k_def = 0.6\n",
    "psi2_1 = 0.\n",
    "# psi0_2 =\n",
    "# psi2_2 =\n",
    "\n",
    "b = 160\n",
    "h = 200\n",
    "l = 5000\n",
    "l_appoggio = 234 # Per la verifica compressione 90 appoggio"
   ]
  },
  {
   "cell_type": "code",
   "execution_count": 3,
   "metadata": {},
   "outputs": [
    {
     "name": "stdout",
     "output_type": "stream",
     "text": [
      "M_d: 9.6296875 kNm\n",
      "V_d: 7.70375 kN\n"
     ]
    }
   ],
   "source": [
    "# SLU\n",
    "M_d = Q * l**2 / 8\n",
    "V_d = Q *l / 2\n",
    "\n",
    "print('M_d:', M_d/10**6, 'kNm')\n",
    "print('V_d:', V_d/10**3, 'kN')"
   ]
  },
  {
   "cell_type": "code",
   "execution_count": 4,
   "metadata": {},
   "outputs": [
    {
     "name": "stdout",
     "output_type": "stream",
     "text": [
      "17.379310344827587 13.841379310344829 0.3103448275862069 17.379310344827587 1.5517241379310345 2.1724137931034484 0.7448275862068966\n"
     ]
    }
   ],
   "source": [
    "# Prende le proprietà del materiale dal dizionario che c'è nell'altro file\n",
    "f_mk, f_t0k, f_t90k, f_c0k, f_c90k, f_vk, f_rk, \\\n",
    "E0mean, E005, E90mean, E9005, Gmean, G05, Grmean, Gr05, \\\n",
    "rho_k, rho_mean = glulam(glulam_class)\n",
    "\n",
    "f_md, f_t0d, f_t90d, f_c0d, f_c90d, f_vd, f_rd = \\\n",
    "(kmod * X_k / gammaM for X_k in glulam(glulam_class)[0:7])\n",
    "\n",
    "print(f_md, f_t0d, f_t90d, f_c0d, f_c90d, f_vd, f_rd)"
   ]
  },
  {
   "cell_type": "markdown",
   "metadata": {},
   "source": [
    "### Flessione\n",
    "$$ \\sigma_{m,d} = \\frac{M_d}{W}\\leq f_{m,d} = \\frac{k_{mod} \\cdot f_{m,k}}{\\gamma_M} $$ \n",
    "\n",
    "sbandamento\n",
    "$$ \\sigma_{m,d} \\leq k_{crit} \\cdot f_{m,d} $$ "
   ]
  },
  {
   "cell_type": "code",
   "execution_count": null,
   "metadata": {},
   "outputs": [],
   "source": []
  },
  {
   "cell_type": "code",
   "execution_count": 5,
   "metadata": {},
   "outputs": [
    {
     "name": "stdout",
     "output_type": "stream",
     "text": [
      "1066666.6666666667\n",
      "106666666.66666667\n",
      "9.02783203125\n"
     ]
    }
   ],
   "source": [
    "W = b * h**2 / 6 #sezioni rettangolari\n",
    "print(W)\n",
    "J = b*h**3 / 12\n",
    "print(J)\n",
    "\n",
    "sigma_md = M_d / W\n",
    "print(sigma_md)"
   ]
  },
  {
   "cell_type": "markdown",
   "metadata": {},
   "source": [
    "## Stabilità flessotorsionale -- formula semplificata EC"
   ]
  },
  {
   "cell_type": "code",
   "execution_count": 18,
   "metadata": {},
   "outputs": [
    {
     "name": "stdout",
     "output_type": "stream",
     "text": [
      "h:  200\n",
      "l_eff:  4900.0\n",
      "l_eff/l:  0.98\n",
      "sigma_mcrit:  213.94285714285715\n",
      "lambda_relm:  0.36176797588519133\n",
      "k_crit:  1\n",
      "k_crit * f_md:  17.379310344827587\n",
      "\n",
      "\n",
      "In mezzeria: sigma_md :  9.02783203125\n",
      "In mezzeria:  True\n"
     ]
    }
   ],
   "source": [
    "l_eff = 0.9*l + 2*h \n",
    "\n",
    "sigma_mcrit = (0.78 * b**2 * E005) / (h * l_eff) \n",
    "lambda_relm = np.sqrt(f_mk/sigma_mcrit)\n",
    "if lambda_relm < 0.75:\n",
    "    k_crit = 1\n",
    "elif lambda_relm < 1.14:\n",
    "    k_crit = 1.56 - .75*lambda_relm\n",
    "else:\n",
    "    k_crit = 1/(lambda_relm**2)\n",
    "\n",
    "print('h: ', h)\n",
    "print('l_eff: ', l_eff)\n",
    "print('l_eff/l: ', l_eff/l)\n",
    "print('sigma_mcrit: ', sigma_mcrit)\n",
    "print('lambda_relm: ', lambda_relm)\n",
    "print('k_crit: ', k_crit)\n",
    "print('k_crit * f_md: ', k_crit * f_md)\n",
    "print('\\n')\n",
    "print('In mezzeria: sigma_md : ', sigma_md)\n",
    "print('In mezzeria: ', sigma_md < k_crit * f_md)"
   ]
  },
  {
   "cell_type": "markdown",
   "metadata": {},
   "source": [
    "### Taglio appoggio"
   ]
  },
  {
   "cell_type": "code",
   "execution_count": 7,
   "metadata": {},
   "outputs": [
    {
     "name": "stdout",
     "output_type": "stream",
     "text": [
      "b_eff: 114.28571428571429\n",
      "tau_d: 0.50555859375\n",
      "f_vd: 2.1724137931034484\n"
     ]
    },
    {
     "data": {
      "text/plain": [
       "True"
      ]
     },
     "execution_count": 7,
     "metadata": {},
     "output_type": "execute_result"
    }
   ],
   "source": [
    "#kcrit legno lamellare = 2.5/f_vk -> b_eff = kcr * b\n",
    "b_eff = 2.5/f_vk * b\n",
    "print('b_eff:', b_eff)\n",
    "\n",
    "tau_d = V_d * 1.5 / (b_eff * h)\n",
    "print('tau_d:', tau_d)\n",
    "print('f_vd:', f_vd)\n",
    "\n",
    "tau_d < f_vd"
   ]
  },
  {
   "cell_type": "markdown",
   "metadata": {},
   "source": [
    "### Compressione 90 appoggio"
   ]
  },
  {
   "cell_type": "code",
   "execution_count": 8,
   "metadata": {},
   "outputs": [
    {
     "name": "stdout",
     "output_type": "stream",
     "text": [
      "A_ef: 42240\n",
      "sigma_c90_appoggio: 0.18238044507575757\n",
      "k_c90*f_c90d: 2.7155172413793105\n"
     ]
    },
    {
     "data": {
      "text/plain": [
       "True"
      ]
     },
     "execution_count": 8,
     "metadata": {},
     "output_type": "execute_result"
    }
   ],
   "source": [
    "k_c90 = 1.75\n",
    "A_ef = b* (l_appoggio+30+0) # min(30mm , a , l_appoggio, l/2) sx e dx\n",
    "print('A_ef:', A_ef)\n",
    "\n",
    "sigma_c90_appoggio = V_d / A_ef\n",
    "print('sigma_c90_appoggio:', sigma_c90_appoggio)\n",
    "\n",
    "print('k_c90*f_c90d:', k_c90*f_c90d)\n",
    "\n",
    "sigma_c90_appoggio < k_c90 * f_c90d"
   ]
  },
  {
   "cell_type": "markdown",
   "metadata": {},
   "source": [
    "## SLE "
   ]
  },
  {
   "cell_type": "code",
   "execution_count": 9,
   "metadata": {},
   "outputs": [
    {
     "name": "stdout",
     "output_type": "stream",
     "text": [
      "w_inst(Q = 1) =  6.2353634863400496\n",
      "w_inst_perm =  4.832406701913538\n",
      "w_inst_acc1 =  8.168326167105464\n",
      "L/SLE_rara_acc1 =  612.1205125396951\n"
     ]
    },
    {
     "data": {
      "text/plain": [
       "True"
      ]
     },
     "execution_count": 9,
     "metadata": {},
     "output_type": "execute_result"
    }
   ],
   "source": [
    "chi = 1.2\n",
    "def w_inst(q): \n",
    "    w_inst_M = 5/384 * q * l**4 / (E0mean * J)\n",
    "    w_inst_V = chi * 1/8 * q * l**2 / (Gmean * b * h)\n",
    "    w_inst = w_inst_M + w_inst_V\n",
    "    return w_inst\n",
    "print('w_inst(Q = 1) = ',w_inst(1))\n",
    "\n",
    "w_inst_perm = w_inst(SLE_rara_perm)\n",
    "print('w_inst_perm = ',w_inst_perm)\n",
    "\n",
    "w_inst_acc1 = w_inst(SLE_rara_acc1)\n",
    "print('w_inst_acc1 = ',w_inst_acc1)\n",
    "print('L/SLE_rara_acc1 = ',l/w_inst_acc1)\n",
    "l/w_inst_acc1 > 300"
   ]
  },
  {
   "cell_type": "code",
   "execution_count": 10,
   "metadata": {},
   "outputs": [
    {
     "name": "stdout",
     "output_type": "stream",
     "text": [
      "w_netFin_perm:  7.731850723061661\n",
      "w_netFin_acc1:  8.168326167105464\n",
      "\n",
      "\n",
      "w_netFin_tot:  15.900176890167124\n",
      "l/w_netFin_tot:  314.4619103635297\n"
     ]
    },
    {
     "data": {
      "text/plain": [
       "True"
      ]
     },
     "execution_count": 10,
     "metadata": {},
     "output_type": "execute_result"
    }
   ],
   "source": [
    "w_netFin_perm = w_inst_perm*(1 + k_def)\n",
    "print('w_netFin_perm: ', w_netFin_perm)\n",
    "\n",
    "w_netFin_acc1 = w_inst_acc1*(1 + k_def*psi2_1)\n",
    "print('w_netFin_acc1: ', w_netFin_acc1)\n",
    "\n",
    "# w_netFin_acc2 = w_inst_acc2*(psi0_2 + k_def*psi2_2)\n",
    "# print('w_netFin_acc2: ', w_netFin_acc2)\n",
    "\n",
    "w_netFin_tot = w_netFin_perm + w_netFin_acc1 # + w_netFin_acc2\n",
    "print('\\n')\n",
    "print('w_netFin_tot: ', w_netFin_tot)\n",
    "print('l/w_netFin_tot: ', l/w_netFin_tot)\n",
    "l/w_netFin_tot > 200"
   ]
  },
  {
   "cell_type": "code",
   "execution_count": null,
   "metadata": {},
   "outputs": [],
   "source": []
  },
  {
   "cell_type": "code",
   "execution_count": 11,
   "metadata": {},
   "outputs": [
    {
     "data": {
      "text/plain": [
       "array([2.64618182, 2.92572727, 2.11545455])"
      ]
     },
     "execution_count": 11,
     "metadata": {},
     "output_type": "execute_result"
    }
   ],
   "source": [
    "#carichi principali tutti istantanei kmod 1.1\n",
    "# cat h\n",
    "# neve principale \n",
    "# vento principale \n",
    "np.array([2.9108,3.2183,2.327])/1.1\n"
   ]
  },
  {
   "cell_type": "code",
   "execution_count": 12,
   "metadata": {},
   "outputs": [
    {
     "data": {
      "text/plain": [
       "3.423888888888889"
      ]
     },
     "execution_count": 12,
     "metadata": {},
     "output_type": "execute_result"
    }
   ],
   "source": [
    "#neve breve durata kmod 0.9\n",
    "(0.23*1.3+0.545*1.5+1.31*1.5*1.)/0.9"
   ]
  },
  {
   "cell_type": "code",
   "execution_count": 13,
   "metadata": {},
   "outputs": [
    {
     "data": {
      "text/plain": [
       "1.8608333333333338"
      ]
     },
     "execution_count": 13,
     "metadata": {},
     "output_type": "execute_result"
    }
   ],
   "source": [
    "#solo g1 e g2 permanente kmod 0.6\n",
    "(0.23*1.3+0.545*1.5 )/ 0.6"
   ]
  },
  {
   "cell_type": "code",
   "execution_count": 14,
   "metadata": {},
   "outputs": [
    {
     "data": {
      "text/plain": [
       "1.1165000000000003"
      ]
     },
     "execution_count": 14,
     "metadata": {},
     "output_type": "execute_result"
    }
   ],
   "source": [
    "0.23*1.3+0.545*1.5"
   ]
  },
  {
   "cell_type": "markdown",
   "metadata": {},
   "source": [
    "É magggore quello con la neve:  kmod 0.9"
   ]
  },
  {
   "cell_type": "code",
   "execution_count": 15,
   "metadata": {},
   "outputs": [
    {
     "data": {
      "text/plain": [
       "3.0815"
      ]
     },
     "execution_count": 15,
     "metadata": {},
     "output_type": "execute_result"
    }
   ],
   "source": [
    "0.23*1.3+0.545*1.5+1.31*1.5*1."
   ]
  },
  {
   "cell_type": "code",
   "execution_count": 16,
   "metadata": {},
   "outputs": [
    {
     "data": {
      "text/plain": [
       "2842.5"
      ]
     },
     "execution_count": 16,
     "metadata": {},
     "output_type": "execute_result"
    }
   ],
   "source": [
    "1.137*2500"
   ]
  },
  {
   "cell_type": "code",
   "execution_count": 17,
   "metadata": {},
   "outputs": [
    {
     "data": {
      "text/plain": [
       "9629687.5"
      ]
     },
     "execution_count": 17,
     "metadata": {},
     "output_type": "execute_result"
    }
   ],
   "source": [
    "3.0815 * 5000**2 / 8"
   ]
  },
  {
   "cell_type": "code",
   "execution_count": null,
   "metadata": {},
   "outputs": [],
   "source": []
  }
 ],
 "metadata": {
  "kernelspec": {
   "display_name": "Python 3",
   "language": "python",
   "name": "python3"
  },
  "language_info": {
   "codemirror_mode": {
    "name": "ipython",
    "version": 3
   },
   "file_extension": ".py",
   "mimetype": "text/x-python",
   "name": "python",
   "nbconvert_exporter": "python",
   "pygments_lexer": "ipython3",
   "version": "3.7.7"
  }
 },
 "nbformat": 4,
 "nbformat_minor": 4
}
