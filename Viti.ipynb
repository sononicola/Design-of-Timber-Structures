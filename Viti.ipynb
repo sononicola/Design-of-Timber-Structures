{
 "cells": [
  {
   "cell_type": "code",
   "execution_count": 46,
   "metadata": {},
   "outputs": [],
   "source": [
    "import sympy as sp\n",
    "import numpy as np"
   ]
  },
  {
   "cell_type": "code",
   "execution_count": 25,
   "metadata": {},
   "outputs": [],
   "source": [
    "f_c90k = 2.5\n",
    "z_max = 204\n",
    "M_d = 1.28 * 10**6\n",
    "b = 120\n",
    "z_i = [54,104,154,204]\n"
   ]
  },
  {
   "cell_type": "code",
   "execution_count": 66,
   "metadata": {},
   "outputs": [
    {
     "data": {
      "text/plain": [
       "[{x: 29.2845392733027, f_max: 3848.29624264146}]"
      ]
     },
     "execution_count": 66,
     "metadata": {},
     "output_type": "execute_result"
    }
   ],
   "source": [
    "x,f_max = sp.symbols('x,f_max',real=True)\n",
    "s = [f_max/(z_max - x)*(z_i[i]-x) for i in range(0,len(z_i))]\n",
    "ss = [f_max/(z_max - x)*(z_i[i]-x)**2 for i in range(0,len(z_i))]\n",
    "sol = sp.solve([\n",
    "    f_c90k*b*x - sum(s),\n",
    "    M_d - f_c90k*b*x**2/2 - sum(ss)\n",
    "],[x,f_max],dict=True)\n",
    "sol"
   ]
  },
  {
   "cell_type": "code",
   "execution_count": 67,
   "metadata": {},
   "outputs": [
    {
     "data": {
      "text/plain": [
       "[{x: 204.000000000000, f_max: 0.0},\n",
       " {x: 29.2845392733027, f_max: 3848.29624264146},\n",
       " {x: 178.857730363349 - 74.8312312092115*I,\n",
       "  f_max: 3314.90187867927 - 12327.9899677861*I},\n",
       " {x: 178.857730363349 + 74.8312312092115*I,\n",
       "  f_max: 3314.90187867927 + 12327.9899677861*I}]"
      ]
     },
     "execution_count": 67,
     "metadata": {},
     "output_type": "execute_result"
    }
   ],
   "source": [
    "sp.solve([\n",
    "    f_c90k*b*x - sum(s),\n",
    "    M_d - f_c90k*b*x**2/2 - sum(ss)\n",
    "],[x,f_max],dict=True,check=False)"
   ]
  },
  {
   "cell_type": "code",
   "execution_count": 63,
   "metadata": {},
   "outputs": [
    {
     "data": {
      "text/plain": [
       "3848.2962426414592"
      ]
     },
     "execution_count": 63,
     "metadata": {},
     "output_type": "execute_result"
    }
   ],
   "source": [
    "f_ax_d = float(sol[0][f_max])\n",
    "f_ax_d"
   ]
  },
  {
   "cell_type": "code",
   "execution_count": null,
   "metadata": {},
   "outputs": [],
   "source": []
  }
 ],
 "metadata": {
  "kernelspec": {
   "display_name": "Python 3",
   "language": "python",
   "name": "python3"
  },
  "language_info": {
   "codemirror_mode": {
    "name": "ipython",
    "version": 3
   },
   "file_extension": ".py",
   "mimetype": "text/x-python",
   "name": "python",
   "nbconvert_exporter": "python",
   "pygments_lexer": "ipython3",
   "version": "3.7.7"
  }
 },
 "nbformat": 4,
 "nbformat_minor": 4
}
