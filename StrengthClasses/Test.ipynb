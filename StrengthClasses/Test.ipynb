{
 "cells": [
  {
   "cell_type": "code",
   "execution_count": 1,
   "metadata": {},
   "outputs": [],
   "source": [
    "from glulam_strength_classes import glulam"
   ]
  },
  {
   "cell_type": "code",
   "execution_count": 2,
   "metadata": {},
   "outputs": [
    {
     "data": {
      "text/plain": [
       "(28.0,\n",
       " 22.3,\n",
       " 0.5,\n",
       " 28.0,\n",
       " 2.5,\n",
       " 3.5,\n",
       " 1.2,\n",
       " 12600.0,\n",
       " 10500.0,\n",
       " 300.0,\n",
       " 250.0,\n",
       " 650.0,\n",
       " 540.0,\n",
       " 65.0,\n",
       " 54.0,\n",
       " 425.0,\n",
       " 460.0)"
      ]
     },
     "execution_count": 2,
     "metadata": {},
     "output_type": "execute_result"
    }
   ],
   "source": [
    "glulam_class = 'GL28h'\n",
    "kmod = 0.9\n",
    "gammaM = 1.45\n",
    "\n",
    "\n",
    "a = glulam(glulam_class)\n",
    "a"
   ]
  },
  {
   "cell_type": "code",
   "execution_count": 3,
   "metadata": {},
   "outputs": [],
   "source": [
    "f_mk, f_t0k, f_t90k, f_c0k, f_c90k, f_vk, f_rk, \\\n",
    "E0mean, E005, E90mean, E9005, Gmean, G05, Grmean, Gr06, \\\n",
    "rho_k, rho_mean = glulam(glulam_class)"
   ]
  },
  {
   "cell_type": "code",
   "execution_count": 4,
   "metadata": {},
   "outputs": [],
   "source": [
    "f_md, f_t0d, f_t90d, f_c0d, f_c90d, f_vd, f_rd = (kmod * X_k / gammaM for X_k in a[0:7])"
   ]
  }
 ],
 "metadata": {
  "kernelspec": {
   "display_name": "Python 3",
   "language": "python",
   "name": "python3"
  },
  "language_info": {
   "codemirror_mode": {
    "name": "ipython",
    "version": 3
   },
   "file_extension": ".py",
   "mimetype": "text/x-python",
   "name": "python",
   "nbconvert_exporter": "python",
   "pygments_lexer": "ipython3",
   "version": "3.7.7"
  }
 },
 "nbformat": 4,
 "nbformat_minor": 4
}
