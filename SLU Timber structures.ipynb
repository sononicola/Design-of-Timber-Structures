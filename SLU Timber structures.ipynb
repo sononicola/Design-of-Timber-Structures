{
 "cells": [
  {
   "cell_type": "code",
   "execution_count": 1,
   "metadata": {},
   "outputs": [],
   "source": [
    "import numpy as np\n",
    "import matplotlib.pyplot as plt"
   ]
  },
  {
   "cell_type": "code",
   "execution_count": 62,
   "metadata": {},
   "outputs": [],
   "source": [
    "# N/mm2\n",
    "f_mk = 28\n",
    "f_vk = 3.5\n",
    "f_c90k = 2.5\n",
    "E0mean = 12600\n",
    "E005 = 10500\n",
    "Gmean = 650\n",
    "\n",
    "gammaM = 1.45\n",
    "kmod = 0.9"
   ]
  },
  {
   "cell_type": "code",
   "execution_count": 147,
   "metadata": {},
   "outputs": [],
   "source": [
    "M_d = 9.629687500000001 #kNm\n",
    "V_d = 7.70375 #kN\n",
    "\n",
    "M_d = M_d * 10**6 \n",
    "V_d = V_d * 10**3 "
   ]
  },
  {
   "cell_type": "markdown",
   "metadata": {},
   "source": [
    "### Flessione\n",
    "$$ \\sigma_{m,d} = \\frac{M_d}{W}\\leq f_{m,d} = \\frac{k_{mod} \\cdot f_{m,k}}{\\gamma_M} $$ \n",
    "\n",
    "sbandamento\n",
    "$$ \\sigma_{m,d} \\leq k_{crit} \\cdot f_{m,d} $$ "
   ]
  },
  {
   "cell_type": "code",
   "execution_count": 148,
   "metadata": {},
   "outputs": [],
   "source": [
    "b = 160\n",
    "h = 200\n",
    "l = 5000"
   ]
  },
  {
   "cell_type": "code",
   "execution_count": 149,
   "metadata": {},
   "outputs": [
    {
     "name": "stdout",
     "output_type": "stream",
     "text": [
      "1066666.6666666667\n",
      "106666666.66666667\n",
      "9.027832031250002\n"
     ]
    }
   ],
   "source": [
    "W = b * h**2 / 6 #sezioni rettangolari\n",
    "print(W)\n",
    "J = b*h**3 / 12\n",
    "print(J)\n",
    "\n",
    "sigma_md = M_d / W\n",
    "print(sigma_md)"
   ]
  },
  {
   "cell_type": "code",
   "execution_count": 150,
   "metadata": {},
   "outputs": [
    {
     "data": {
      "text/plain": [
       "17.379310344827587"
      ]
     },
     "execution_count": 150,
     "metadata": {},
     "output_type": "execute_result"
    }
   ],
   "source": [
    "f_md = kmod * f_mk / gammaM\n",
    "f_md"
   ]
  },
  {
   "cell_type": "markdown",
   "metadata": {},
   "source": [
    "##### Sbandamento"
   ]
  },
  {
   "cell_type": "code",
   "execution_count": 151,
   "metadata": {},
   "outputs": [
    {
     "name": "stdout",
     "output_type": "stream",
     "text": [
      "2615.9198943770684\n",
      "366.60307754342057\n",
      "0.2763636770911752\n",
      "1\n"
     ]
    }
   ],
   "source": [
    "# Vedi pagina 291 del libro\n",
    "l_t = 2500 # distanza tra due ritegni torsionali successivi (l/2)\n",
    "a1 = 1.13\n",
    "a2 = 1.44\n",
    "az = h/2\n",
    "\n",
    "# caso generico per il RETTANGOLO e non semplificato per h/b > 4\n",
    "B = E0mean * b**3 * h / 12 # rigidezza flessionale attorno asse z\n",
    "T = Gmean * b**3 * h / (3*(1 + 0.6 * b/h)) # rigidezza torsionale \n",
    "l_eff = l_t / (a1 * (1 - a2 * az/l_t * np.sqrt(B/T)))\n",
    "\n",
    "\n",
    "sigma_mcrit = np.pi/l_eff * b**2 / h * E005 * np.sqrt(Gmean/E0mean)\n",
    "lambda_relm = np.sqrt(f_mk/sigma_mcrit)\n",
    "if lambda_relm < 0.75:\n",
    "    k_crit = 1\n",
    "elif lambda_relm < 1.14:\n",
    "    k_crit = 1.56 - .75*lambda_relm\n",
    "else:\n",
    "    k_crit = 1/(lambda_relm**2)\n",
    "\n",
    "print(l_eff)\n",
    "print(sigma_mcrit)\n",
    "print(lambda_relm)\n",
    "print(k_crit)"
   ]
  },
  {
   "cell_type": "code",
   "execution_count": 152,
   "metadata": {},
   "outputs": [
    {
     "data": {
      "text/plain": [
       "True"
      ]
     },
     "execution_count": 152,
     "metadata": {},
     "output_type": "execute_result"
    }
   ],
   "source": [
    "sigma_md < k_crit * f_md"
   ]
  },
  {
   "cell_type": "markdown",
   "metadata": {},
   "source": [
    "### Taglio"
   ]
  },
  {
   "cell_type": "code",
   "execution_count": 153,
   "metadata": {},
   "outputs": [
    {
     "name": "stdout",
     "output_type": "stream",
     "text": [
      "114.28571428571429\n",
      "0.50555859375\n",
      "2.1724137931034484\n"
     ]
    }
   ],
   "source": [
    "#kcrit legno lamellare = 2.5/f_vk -> b_eff = kcr * b\n",
    "b_eff = 2.5/f_vk * b\n",
    "print(b_eff)\n",
    "\n",
    "tau_d = V_d * 1.5 / (b_eff * h)\n",
    "print(tau_d)\n",
    "\n",
    "f_vd = kmod * f_vk / gammaM\n",
    "print(f_vd)"
   ]
  },
  {
   "cell_type": "code",
   "execution_count": 154,
   "metadata": {},
   "outputs": [
    {
     "data": {
      "text/plain": [
       "True"
      ]
     },
     "execution_count": 154,
     "metadata": {},
     "output_type": "execute_result"
    }
   ],
   "source": [
    "tau_d < f_vd"
   ]
  },
  {
   "cell_type": "markdown",
   "metadata": {},
   "source": [
    "## SLE "
   ]
  },
  {
   "cell_type": "code",
   "execution_count": 156,
   "metadata": {},
   "outputs": [
    {
     "name": "stdout",
     "output_type": "stream",
     "text": [
      "4.832406701913538\n",
      "1034.6811244219364\n",
      "\n",
      "\n",
      "8.168326167105464\n",
      "612.1205125396951\n",
      "\n",
      "\n",
      "0.9477752499236874\n",
      "5275.51231201974\n",
      "\n",
      "\n",
      "w_inst totale =  13.948508118942689\n",
      "16.666666666666668\n",
      "10.0\n"
     ]
    }
   ],
   "source": [
    "#q = [2.7721999999999998,1.025,2.7721999999999998+1.025] #Le varie combinazioni\n",
    "q = [0.23+0.545,1.31,0.152]\n",
    "l = 5000\n",
    "chi = 1.2\n",
    "def w_inst(q):\n",
    "    #chi = 1.2\n",
    "    \n",
    "    w_inst_M = 5/384 * q * l**4 / (E0mean * J)\n",
    "    w_inst_V = chi * 1/8 * q * l**2 / (Gmean * b * h)\n",
    "    w_inst = w_inst_M + w_inst_V\n",
    "    \n",
    "    return w_inst\n",
    "\n",
    "w=[]\n",
    "for qq in q:\n",
    "    w_i = w_inst(qq)\n",
    "    w.append(w_i)\n",
    "    print(w_i)\n",
    "    print(l/w_i)\n",
    "    print('\\n')\n",
    "\n",
    "print('w_inst totale = ',np.sum(w))\n",
    "print(l/300)\n",
    "print(l/500)"
   ]
  },
  {
   "cell_type": "code",
   "execution_count": 139,
   "metadata": {},
   "outputs": [
    {
     "data": {
      "text/plain": [
       "6.2353634863400496"
      ]
     },
     "execution_count": 139,
     "metadata": {},
     "output_type": "execute_result"
    }
   ],
   "source": [
    "w_inst(1)"
   ]
  },
  {
   "cell_type": "code",
   "execution_count": 140,
   "metadata": {},
   "outputs": [
    {
     "data": {
      "text/plain": [
       "[4.832406701913538, 8.168326167105464, 0.9477752499236874]"
      ]
     },
     "execution_count": 140,
     "metadata": {},
     "output_type": "execute_result"
    }
   ],
   "source": [
    "w"
   ]
  },
  {
   "cell_type": "code",
   "execution_count": 157,
   "metadata": {},
   "outputs": [
    {
     "name": "stdout",
     "output_type": "stream",
     "text": [
      "8.698332063444369\n",
      "16.86665823054983\n",
      "17.814433480473518\n"
     ]
    },
    {
     "data": {
      "text/plain": [
       "17.814433480473518"
      ]
     },
     "execution_count": 157,
     "metadata": {},
     "output_type": "execute_result"
    }
   ],
   "source": [
    "k_def = 0.8\n",
    "psi2 = ['g1-g2', 0.0 , 0.0] #psi dei carichi variabili \n",
    "\n",
    "w_netFin = w[0]*(1 + k_def) \n",
    "print(w_netFin)\n",
    "for i in range(1,len(w)):\n",
    "    w_netFin = w_netFin + w[i]*(1 + psi2[i]*k_def)\n",
    "    print(w_netFin)\n",
    "w_netFin"
   ]
  },
  {
   "cell_type": "code",
   "execution_count": 158,
   "metadata": {},
   "outputs": [
    {
     "data": {
      "text/plain": [
       "25.0"
      ]
     },
     "execution_count": 158,
     "metadata": {},
     "output_type": "execute_result"
    }
   ],
   "source": [
    "l/200"
   ]
  },
  {
   "cell_type": "code",
   "execution_count": null,
   "metadata": {},
   "outputs": [],
   "source": []
  },
  {
   "cell_type": "code",
   "execution_count": 127,
   "metadata": {},
   "outputs": [
    {
     "data": {
      "text/plain": [
       "array([2.64618182, 2.92572727, 2.11545455])"
      ]
     },
     "execution_count": 127,
     "metadata": {},
     "output_type": "execute_result"
    }
   ],
   "source": [
    "#carichi principali tutti istantanei kmod 1.1\n",
    "# cat h\n",
    "# neve principale \n",
    "# vento principale \n",
    "np.array([2.9108,3.2183,2.327])/1.1\n"
   ]
  },
  {
   "cell_type": "code",
   "execution_count": 124,
   "metadata": {},
   "outputs": [
    {
     "data": {
      "text/plain": [
       "3.423888888888889"
      ]
     },
     "execution_count": 124,
     "metadata": {},
     "output_type": "execute_result"
    }
   ],
   "source": [
    "#neve breve durata kmod 0.9\n",
    "(0.23*1.3+0.545*1.5+1.31*1.5*1.)/0.9"
   ]
  },
  {
   "cell_type": "code",
   "execution_count": 125,
   "metadata": {},
   "outputs": [
    {
     "data": {
      "text/plain": [
       "1.8608333333333338"
      ]
     },
     "execution_count": 125,
     "metadata": {},
     "output_type": "execute_result"
    }
   ],
   "source": [
    "#solo g1 e g2 permanente kmod 0.6\n",
    "(0.23*1.3+0.545*1.5 )/ 0.6"
   ]
  },
  {
   "cell_type": "code",
   "execution_count": 143,
   "metadata": {},
   "outputs": [
    {
     "data": {
      "text/plain": [
       "1.1165000000000003"
      ]
     },
     "execution_count": 143,
     "metadata": {},
     "output_type": "execute_result"
    }
   ],
   "source": [
    "0.23*1.3+0.545*1.5"
   ]
  },
  {
   "cell_type": "markdown",
   "metadata": {},
   "source": [
    "É magggore quello con la neve:  kmod 0.9"
   ]
  },
  {
   "cell_type": "code",
   "execution_count": 144,
   "metadata": {},
   "outputs": [
    {
     "data": {
      "text/plain": [
       "3.0815"
      ]
     },
     "execution_count": 144,
     "metadata": {},
     "output_type": "execute_result"
    }
   ],
   "source": [
    "0.23*1.3+0.545*1.5+1.31*1.5*1."
   ]
  },
  {
   "cell_type": "code",
   "execution_count": 145,
   "metadata": {},
   "outputs": [
    {
     "data": {
      "text/plain": [
       "9.629687500000001"
      ]
     },
     "execution_count": 145,
     "metadata": {},
     "output_type": "execute_result"
    }
   ],
   "source": [
    "Q = 3.0815\n",
    "L = 5\n",
    "\n",
    "M = Q * L**2 / 8\n",
    "M"
   ]
  },
  {
   "cell_type": "code",
   "execution_count": 146,
   "metadata": {},
   "outputs": [
    {
     "data": {
      "text/plain": [
       "7.70375"
      ]
     },
     "execution_count": 146,
     "metadata": {},
     "output_type": "execute_result"
    }
   ],
   "source": [
    "V = Q*L/2\n",
    "V"
   ]
  },
  {
   "cell_type": "code",
   "execution_count": 22,
   "metadata": {},
   "outputs": [
    {
     "data": {
      "text/plain": [
       "2842.5"
      ]
     },
     "execution_count": 22,
     "metadata": {},
     "output_type": "execute_result"
    }
   ],
   "source": [
    "1.137*2500"
   ]
  },
  {
   "cell_type": "code",
   "execution_count": null,
   "metadata": {},
   "outputs": [],
   "source": []
  }
 ],
 "metadata": {
  "kernelspec": {
   "display_name": "Python 3",
   "language": "python",
   "name": "python3"
  },
  "language_info": {
   "codemirror_mode": {
    "name": "ipython",
    "version": 3
   },
   "file_extension": ".py",
   "mimetype": "text/x-python",
   "name": "python",
   "nbconvert_exporter": "python",
   "pygments_lexer": "ipython3",
   "version": "3.7.7"
  }
 },
 "nbformat": 4,
 "nbformat_minor": 4
}
