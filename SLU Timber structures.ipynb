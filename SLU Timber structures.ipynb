{
 "cells": [
  {
   "cell_type": "code",
   "execution_count": 7,
   "metadata": {},
   "outputs": [],
   "source": [
    "import numpy as np\n",
    "import matplotlib.pyplot as plt"
   ]
  },
  {
   "cell_type": "code",
   "execution_count": 8,
   "metadata": {},
   "outputs": [],
   "source": [
    "# N/mm2\n",
    "f_mk = 24\n",
    "f_vk = 2.7\n",
    "f_c90k = 2.7\n",
    "E0mean = 9400\n",
    "Gmean = 720\n",
    "\n",
    "gammaM = 1.25\n",
    "kmod = 0.9"
   ]
  },
  {
   "cell_type": "code",
   "execution_count": 39,
   "metadata": {},
   "outputs": [
    {
     "data": {
      "text/plain": [
       "0.625"
      ]
     },
     "execution_count": 39,
     "metadata": {},
     "output_type": "execute_result"
    }
   ],
   "source": [
    "M = 1 * 5 / 8\n",
    "M"
   ]
  },
  {
   "cell_type": "code",
   "execution_count": 36,
   "metadata": {},
   "outputs": [],
   "source": [
    "M_d = 59.3 #kNm\n",
    "V_d = 49.8 #kN\n",
    "\n",
    "M_d = M_d * 10**6 \n",
    "V_d = V_d * 10**3 "
   ]
  },
  {
   "cell_type": "markdown",
   "metadata": {},
   "source": [
    "### Flessione\n",
    "$$ \\sigma_{m,d} \\leq k_{crit} \\cdot f_{m,d} = \\frac{k_{mod} \\cdot f_{m,k}}{\\gamma_M} $$ \n",
    "\n",
    "sbandamento\n",
    "$$ \\sigma_{m,d} \\leq k_{crit} \\cdot f_{m,d} $$ "
   ]
  },
  {
   "cell_type": "code",
   "execution_count": 9,
   "metadata": {},
   "outputs": [],
   "source": [
    "b = 160\n",
    "h = 380\n",
    "E005 = 9400\n",
    "Emean = 11600\n",
    "\n",
    "l_eff = 600 # sbandamento"
   ]
  },
  {
   "cell_type": "code",
   "execution_count": 37,
   "metadata": {},
   "outputs": [
    {
     "name": "stdout",
     "output_type": "stream",
     "text": [
      "3850666.6666666665\n",
      "731626666.6666666\n",
      "15.399930747922438\n"
     ]
    }
   ],
   "source": [
    "W = b * h**2 / 6 #sezioni rettangolari\n",
    "print(W)\n",
    "J = b*h**3 / 12\n",
    "print(J)\n",
    "\n",
    "sigma_md = M_d / W\n",
    "print(sigma_md)"
   ]
  },
  {
   "cell_type": "code",
   "execution_count": 11,
   "metadata": {},
   "outputs": [
    {
     "data": {
      "text/plain": [
       "17.28"
      ]
     },
     "execution_count": 11,
     "metadata": {},
     "output_type": "execute_result"
    }
   ],
   "source": [
    "f_md = kmod * f_mk / gammaM\n",
    "f_md"
   ]
  },
  {
   "cell_type": "code",
   "execution_count": 12,
   "metadata": {},
   "outputs": [
    {
     "name": "stdout",
     "output_type": "stream",
     "text": [
      "0.1704494372643449\n",
      "1\n"
     ]
    }
   ],
   "source": [
    "sigma_mcrit = np.pi/l_eff * b**2 / h * E005 * np.sqrt(Gmean/Emean)\n",
    "lambda_relm = np.sqrt(f_mk/sigma_mcrit)\n",
    "if lambda_relm < 0.75:\n",
    "    kcrit = 1\n",
    "elif lambda_relm < 1.14:\n",
    "    kcrit = 1.56 - .75*lambda_relm\n",
    "else:\n",
    "    kcrit = 1/(lambda_relm**2)\n",
    "    \n",
    "print(lambda_relm)\n",
    "print(kcrit)"
   ]
  },
  {
   "cell_type": "code",
   "execution_count": 13,
   "metadata": {},
   "outputs": [
    {
     "data": {
      "text/plain": [
       "True"
      ]
     },
     "execution_count": 13,
     "metadata": {},
     "output_type": "execute_result"
    }
   ],
   "source": [
    "sigma_md < kcrit * f_md"
   ]
  },
  {
   "cell_type": "markdown",
   "metadata": {},
   "source": [
    "### Taglio"
   ]
  },
  {
   "cell_type": "code",
   "execution_count": 17,
   "metadata": {},
   "outputs": [
    {
     "name": "stdout",
     "output_type": "stream",
     "text": [
      "148.14814814814812\n",
      "1.3269078947368425\n",
      "1.9440000000000002\n"
     ]
    }
   ],
   "source": [
    "#kcrit legno lamellare\n",
    "b_eff = 2.5/f_vk * b\n",
    "print(b_eff)\n",
    "\n",
    "tau_d = V_d * 1.5 / (b_eff * h)\n",
    "print(tau_d)\n",
    "\n",
    "f_vd = kmod * f_vk / gammaM\n",
    "print(f_vd)"
   ]
  },
  {
   "cell_type": "code",
   "execution_count": 15,
   "metadata": {},
   "outputs": [
    {
     "data": {
      "text/plain": [
       "True"
      ]
     },
     "execution_count": 15,
     "metadata": {},
     "output_type": "execute_result"
    }
   ],
   "source": [
    "tau_d < f_vd"
   ]
  },
  {
   "cell_type": "markdown",
   "metadata": {},
   "source": [
    "## SLE "
   ]
  },
  {
   "cell_type": "code",
   "execution_count": 65,
   "metadata": {},
   "outputs": [
    {
     "name": "stdout",
     "output_type": "stream",
     "text": [
      "24.3547082485498\n",
      "225.82902426381958\n",
      "True\n",
      "\n",
      "\n",
      "8.42138156764642\n",
      "653.0994891776554\n",
      "True\n",
      "\n",
      "\n",
      "2.6737431759050194\n",
      "2057.0412482262204\n",
      "True\n",
      "\n",
      "\n",
      "1.8188729087789246\n",
      "3023.8506348925443\n",
      "True\n",
      "\n",
      "\n",
      "18.333333333333332\n",
      "11.0\n"
     ]
    }
   ],
   "source": [
    "q = [13.39,4.63,1.47,1] #Le varie combinazioni\n",
    "l = 5500\n",
    "\n",
    "def w_inst(q):\n",
    "    w_inst_M = 5/384 * q * l**4 / (E0mean * J)\n",
    "    w_inst_V = 1/8 * q * l**2 / (Gmean * b * h)\n",
    "    w_inst = w_inst_M + w_inst_V\n",
    "    return w_inst\n",
    "for qq in q:\n",
    "    w_inst(qq)\n",
    "    print(w_inst(qq))\n",
    "    print(l/w_inst(qq))\n",
    "    print(l/w_inst(qq)>150)\n",
    "    print('\\n')\n",
    "\n",
    "print(l/300)\n",
    "print(l/500)"
   ]
  },
  {
   "cell_type": "code",
   "execution_count": 63,
   "metadata": {},
   "outputs": [
    {
     "data": {
      "text/plain": [
       "60800"
      ]
     },
     "execution_count": 63,
     "metadata": {},
     "output_type": "execute_result"
    }
   ],
   "source": [
    "b*h"
   ]
  },
  {
   "cell_type": "code",
   "execution_count": 64,
   "metadata": {},
   "outputs": [
    {
     "data": {
      "text/plain": [
       "50666.66666666667"
      ]
     },
     "execution_count": 64,
     "metadata": {},
     "output_type": "execute_result"
    }
   ],
   "source": [
    "5/6* b*h"
   ]
  },
  {
   "cell_type": "code",
   "execution_count": null,
   "metadata": {},
   "outputs": [],
   "source": []
  }
 ],
 "metadata": {
  "kernelspec": {
   "display_name": "Python 3",
   "language": "python",
   "name": "python3"
  },
  "language_info": {
   "codemirror_mode": {
    "name": "ipython",
    "version": 3
   },
   "file_extension": ".py",
   "mimetype": "text/x-python",
   "name": "python",
   "nbconvert_exporter": "python",
   "pygments_lexer": "ipython3",
   "version": "3.7.7"
  }
 },
 "nbformat": 4,
 "nbformat_minor": 4
}
