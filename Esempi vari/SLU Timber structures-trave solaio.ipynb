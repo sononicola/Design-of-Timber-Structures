{
 "cells": [
  {
   "cell_type": "code",
   "execution_count": 1,
   "metadata": {},
   "outputs": [],
   "source": [
    "import numpy as np\n",
    "import matplotlib.pyplot as plt"
   ]
  },
  {
   "cell_type": "code",
   "execution_count": 2,
   "metadata": {},
   "outputs": [],
   "source": [
    "# N/mm2\n",
    "f_mk = 28\n",
    "f_vk = 3.5\n",
    "f_c90k = 2.5\n",
    "E0mean = 12600\n",
    "E005 = 10500\n",
    "Gmean = 650\n",
    "\n",
    "gammaM = 1.45\n",
    "kmod = 0.9"
   ]
  },
  {
   "cell_type": "code",
   "execution_count": 3,
   "metadata": {},
   "outputs": [],
   "source": [
    "M_d = 257.87465409375 #kNm\n",
    "V_d = 135.101325 #kN\n",
    "\n",
    "M_d = M_d * 10**6 \n",
    "V_d = V_d * 10**3 "
   ]
  },
  {
   "cell_type": "markdown",
   "metadata": {},
   "source": [
    "### Flessione\n",
    "$$ \\sigma_{m,d} = \\frac{M_d}{W}\\leq f_{m,d} = \\frac{k_{mod} \\cdot f_{m,k}}{\\gamma_M} $$ \n",
    "\n",
    "sbandamento\n",
    "$$ \\sigma_{m,d} \\leq k_{crit} \\cdot f_{m,d} $$ "
   ]
  },
  {
   "cell_type": "code",
   "execution_count": 4,
   "metadata": {},
   "outputs": [],
   "source": [
    "# mm\n",
    "b = 200 \n",
    "h = 700\n",
    "l = 7635"
   ]
  },
  {
   "cell_type": "code",
   "execution_count": 5,
   "metadata": {},
   "outputs": [
    {
     "name": "stdout",
     "output_type": "stream",
     "text": [
      "16333333.333333334\n",
      "5716666666.666667\n",
      "15.788244128188776\n"
     ]
    }
   ],
   "source": [
    "W = b * h**2 / 6 #sezioni rettangolari\n",
    "print(W)\n",
    "J = b*h**3 / 12\n",
    "print(J)\n",
    "\n",
    "sigma_md = M_d / W\n",
    "print(sigma_md)"
   ]
  },
  {
   "cell_type": "code",
   "execution_count": 6,
   "metadata": {},
   "outputs": [
    {
     "data": {
      "text/plain": [
       "17.379310344827587"
      ]
     },
     "execution_count": 6,
     "metadata": {},
     "output_type": "execute_result"
    }
   ],
   "source": [
    "f_md = kmod * f_mk / gammaM\n",
    "f_md"
   ]
  },
  {
   "cell_type": "code",
   "execution_count": 7,
   "metadata": {},
   "outputs": [
    {
     "data": {
      "text/plain": [
       "True"
      ]
     },
     "execution_count": 7,
     "metadata": {},
     "output_type": "execute_result"
    }
   ],
   "source": [
    "sigma_md < f_md"
   ]
  },
  {
   "cell_type": "markdown",
   "metadata": {},
   "source": [
    "##### Sbandamento"
   ]
  },
  {
   "cell_type": "code",
   "execution_count": 8,
   "metadata": {},
   "outputs": [
    {
     "name": "stdout",
     "output_type": "stream",
     "text": [
      "l_eff:  8017.669252492032\n",
      "l_eff/l:  1.0501203998024926\n",
      "sigma_mcrit:  53.397926375660944\n",
      "lambda_relm:  0.7241304657198179\n",
      "k_crit:  1\n"
     ]
    }
   ],
   "source": [
    "# Vedi pagina 291 del libro\n",
    "l_t = l # distanza tra due ritegni torsionali successivi (non ne abbiamo)\n",
    "a1 = 1.13\n",
    "a2 = 1.44\n",
    "az = h/2\n",
    "\n",
    "# caso generico per il RETTANGOLO e non semplificato per h/b > 4\n",
    "B = E0mean * b**3 * h / 12 # rigidezza flessionale attorno asse z\n",
    "T = Gmean * b**3 * h / (3*(1 + 0.6 * b/h)) # rigidezza torsionale \n",
    "l_eff = l_t / (a1 * (1 - a2 * az/l_t * np.sqrt(B/T)))\n",
    "\n",
    "\n",
    "sigma_mcrit = np.pi/l_eff * b**2 / h * E005 * np.sqrt(Gmean/E0mean)\n",
    "lambda_relm = np.sqrt(f_mk/sigma_mcrit)\n",
    "if lambda_relm < 0.75:\n",
    "    k_crit = 1\n",
    "elif lambda_relm < 1.14:\n",
    "    k_crit = 1.56 - .75*lambda_relm\n",
    "else:\n",
    "    k_crit = 1/(lambda_relm**2)\n",
    "\n",
    "print('l_eff: ', l_eff)\n",
    "print('l_eff/l: ', l_eff/l)\n",
    "print('sigma_mcrit: ', sigma_mcrit)\n",
    "print('lambda_relm: ', lambda_relm)\n",
    "print('k_crit: ', k_crit)"
   ]
  },
  {
   "cell_type": "code",
   "execution_count": 9,
   "metadata": {},
   "outputs": [
    {
     "data": {
      "text/plain": [
       "True"
      ]
     },
     "execution_count": 9,
     "metadata": {},
     "output_type": "execute_result"
    }
   ],
   "source": [
    "sigma_md < k_crit * f_md"
   ]
  },
  {
   "cell_type": "markdown",
   "metadata": {},
   "source": [
    "### Taglio"
   ]
  },
  {
   "cell_type": "code",
   "execution_count": 10,
   "metadata": {},
   "outputs": [
    {
     "name": "stdout",
     "output_type": "stream",
     "text": [
      "142.85714285714286\n",
      "2.026519875\n",
      "2.1724137931034484\n"
     ]
    }
   ],
   "source": [
    "#kcrit legno lamellare = 2.5/f_vk -> b_eff = kcr * b\n",
    "b_eff = 2.5/f_vk * b\n",
    "print(b_eff)\n",
    "\n",
    "tau_d = V_d * 1.5 / (b_eff * h)\n",
    "print(tau_d)\n",
    "\n",
    "f_vd = kmod * f_vk / gammaM\n",
    "print(f_vd)"
   ]
  },
  {
   "cell_type": "code",
   "execution_count": 11,
   "metadata": {},
   "outputs": [
    {
     "data": {
      "text/plain": [
       "True"
      ]
     },
     "execution_count": 11,
     "metadata": {},
     "output_type": "execute_result"
    }
   ],
   "source": [
    "tau_d < f_vd"
   ]
  },
  {
   "cell_type": "markdown",
   "metadata": {},
   "source": [
    "### Compressione appggio 90 sulla scarpa"
   ]
  },
  {
   "cell_type": "code",
   "execution_count": 12,
   "metadata": {},
   "outputs": [],
   "source": [
    "f_c90d = f_c90k * kmod / gammaM"
   ]
  },
  {
   "cell_type": "code",
   "execution_count": 21,
   "metadata": {},
   "outputs": [
    {
     "name": "stdout",
     "output_type": "stream",
     "text": [
      "A_ef: 22000\n",
      "sigma_c90_appoggio: 6.140969318181819\n"
     ]
    }
   ],
   "source": [
    "l_appoggio = 80\n",
    "A_ef = b* (l_appoggio+30+0) # min(30mm , a , l_appoggio, l/2) sx e dx\n",
    "k_c90 = 1.75\n",
    "\n",
    "sigma_c90_appoggio = V_d / A_ef\n",
    "print('A_ef:', A_ef)\n",
    "print('sigma_c90_appoggio:', sigma_c90_appoggio)"
   ]
  },
  {
   "cell_type": "code",
   "execution_count": 22,
   "metadata": {},
   "outputs": [
    {
     "name": "stdout",
     "output_type": "stream",
     "text": [
      "R: 2.7155172413793105\n"
     ]
    },
    {
     "data": {
      "text/plain": [
       "False"
      ]
     },
     "execution_count": 22,
     "metadata": {},
     "output_type": "execute_result"
    }
   ],
   "source": [
    "print('R:', k_c90*f_c90d)\n",
    "sigma_c90_appoggio < k_c90 * f_c90d"
   ]
  },
  {
   "cell_type": "code",
   "execution_count": 23,
   "metadata": {},
   "outputs": [
    {
     "data": {
      "text/plain": [
       "1.5517241379310345"
      ]
     },
     "execution_count": 23,
     "metadata": {},
     "output_type": "execute_result"
    }
   ],
   "source": [
    "f_c90d"
   ]
  },
  {
   "cell_type": "markdown",
   "metadata": {},
   "source": [
    "## SLE "
   ]
  },
  {
   "cell_type": "code",
   "execution_count": null,
   "metadata": {},
   "outputs": [],
   "source": []
  },
  {
   "cell_type": "code",
   "execution_count": 15,
   "metadata": {},
   "outputs": [
    {
     "name": "stdout",
     "output_type": "stream",
     "text": [
      "11.07836208141602\n",
      "689.1813017023276\n",
      "\n",
      "\n",
      "6.151725228276462\n",
      "1241.1152508739585\n",
      "\n",
      "\n",
      "w_inst totale =  17.230087309692482\n",
      "30.54\n",
      "15.27\n"
     ]
    }
   ],
   "source": [
    "q = [0.93*4.33+0.96+1.65*4.33+0.8*4.33,2*4.33]\n",
    "\n",
    "chi = 1.2\n",
    "def w_inst(q):\n",
    "    #chi = 1.2\n",
    "    \n",
    "    w_inst_M = 5/384 * q * l**4 / (E0mean * J)\n",
    "    w_inst_V = chi * 1/8 * q * l**2 / (Gmean * b * h)\n",
    "    w_inst = w_inst_M + w_inst_V\n",
    "    \n",
    "    return w_inst\n",
    "\n",
    "w=[]\n",
    "for qq in q:\n",
    "    w_i = w_inst(qq)\n",
    "    w.append(w_i)\n",
    "    print(w_i)\n",
    "    print(l/w_i)\n",
    "    print('\\n')\n",
    "\n",
    "print('w_inst totale = ',np.sum(w))\n",
    "print(l/250)\n",
    "print(l/500)"
   ]
  },
  {
   "cell_type": "code",
   "execution_count": 20,
   "metadata": {},
   "outputs": [
    {
     "data": {
      "text/plain": [
       "[15.5954, 8.66]"
      ]
     },
     "execution_count": 20,
     "metadata": {},
     "output_type": "execute_result"
    }
   ],
   "source": [
    "q"
   ]
  },
  {
   "cell_type": "code",
   "execution_count": 16,
   "metadata": {},
   "outputs": [
    {
     "data": {
      "text/plain": [
       "0.7103608808633328"
      ]
     },
     "execution_count": 16,
     "metadata": {},
     "output_type": "execute_result"
    }
   ],
   "source": [
    "w_inst(1)"
   ]
  },
  {
   "cell_type": "code",
   "execution_count": 17,
   "metadata": {},
   "outputs": [
    {
     "data": {
      "text/plain": [
       "[11.07836208141602, 6.151725228276462]"
      ]
     },
     "execution_count": 17,
     "metadata": {},
     "output_type": "execute_result"
    }
   ],
   "source": [
    "w"
   ]
  },
  {
   "cell_type": "markdown",
   "metadata": {},
   "source": [
    "### Da sistemare. la formula non è cosi per il secondo carico variabile!"
   ]
  },
  {
   "cell_type": "code",
   "execution_count": 18,
   "metadata": {},
   "outputs": [
    {
     "name": "stdout",
     "output_type": "stream",
     "text": [
      "17.725379330265636\n",
      "24.98441509963186\n"
     ]
    },
    {
     "data": {
      "text/plain": [
       "24.98441509963186"
      ]
     },
     "execution_count": 18,
     "metadata": {},
     "output_type": "execute_result"
    }
   ],
   "source": [
    "k_def = 0.6\n",
    "psi2 = ['g1-g2', 0.3] #psi dei carichi variabili \n",
    "\n",
    "w_netFin = w[0]*(1 + k_def) \n",
    "print(w_netFin)\n",
    "for i in range(1,len(w)):\n",
    "    w_netFin = w_netFin + w[i]*(1 + psi2[i]*k_def)\n",
    "    print(w_netFin)\n",
    "w_netFin"
   ]
  },
  {
   "cell_type": "code",
   "execution_count": 19,
   "metadata": {},
   "outputs": [
    {
     "data": {
      "text/plain": [
       "15.27"
      ]
     },
     "execution_count": 19,
     "metadata": {},
     "output_type": "execute_result"
    }
   ],
   "source": [
    "l/500"
   ]
  }
 ],
 "metadata": {
  "kernelspec": {
   "display_name": "Python 3",
   "language": "python",
   "name": "python3"
  },
  "language_info": {
   "codemirror_mode": {
    "name": "ipython",
    "version": 3
   },
   "file_extension": ".py",
   "mimetype": "text/x-python",
   "name": "python",
   "nbconvert_exporter": "python",
   "pygments_lexer": "ipython3",
   "version": "3.7.7"
  }
 },
 "nbformat": 4,
 "nbformat_minor": 4
}
