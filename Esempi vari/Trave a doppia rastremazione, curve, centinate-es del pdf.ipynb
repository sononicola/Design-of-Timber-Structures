{
 "cells": [
  {
   "cell_type": "markdown",
   "metadata": {},
   "source": [
    "# Parte di trave a rastremazione semplice\n",
    "Capitolo 6.4.2 EC5. Fino a $0.5 h_{ap}$ dall'asse di simmetria"
   ]
  },
  {
   "cell_type": "code",
   "execution_count": 4,
   "metadata": {},
   "outputs": [],
   "source": [
    "import numpy as np"
   ]
  },
  {
   "cell_type": "code",
   "execution_count": 5,
   "metadata": {},
   "outputs": [],
   "source": [
    "beamType = 'DoppiaRastremazione'\n",
    "\n",
    "# beamType = 'Curva'\n",
    "# beamType = 'Centinata'\n",
    "\n",
    "timberType = 'lamellare'\n",
    "# timberType = 'massiccio'"
   ]
  },
  {
   "cell_type": "code",
   "execution_count": 90,
   "metadata": {},
   "outputs": [],
   "source": [
    "# N/mm2\n",
    "f_mk = 24\n",
    "f_vk = 2.7\n",
    "f_c90k = 2.7\n",
    "f_t90k = 0.4\n",
    "E0mean = 11600\n",
    "E005 = 9400\n",
    "Gmean = 720\n",
    "\n",
    "gammaM = 1.45\n",
    "kmod = 0.9\n",
    "\n",
    "alpha = 3.15 # in gradi °\n",
    "b = 220\n",
    "h_ap = 1250 # altezza apice\n",
    "h_0 = 700 # altezza appoggio\n",
    "l = 22000 \n",
    "\n",
    "alpha = np.radians(alpha)"
   ]
  },
  {
   "cell_type": "code",
   "execution_count": 7,
   "metadata": {},
   "outputs": [
    {
     "name": "stdout",
     "output_type": "stream",
     "text": [
      "V_b: 4.719 m3\n",
      "V_colmo: 0.33902057321078094 m3\n",
      "2/3 V_b: 3.146 m3\n",
      "V: 0.33902057321078094 m3\n"
     ]
    }
   ],
   "source": [
    "# volume della trave \n",
    "V_b = (h_ap + h_0) * l/2 * b \n",
    "V_b = V_b/10**9 # da mm3 a m3\n",
    "print('V_b:', V_b, 'm3')\n",
    "\n",
    "# vale solo per la trave a doppia rastremazione:\n",
    "# volume della zona di colmo\n",
    "# formula alternativa: b * h_ap**2 * (1 - 0.25 * np.tan(alpha)) / 10**9\n",
    "h_ap_05 = h_ap - np.tan(alpha)*0.5*h_ap\n",
    "V_colmo =  (h_ap_05 + h_ap) * 0.5*h_ap * b\n",
    "V_colmo = V_colmo/10**9\n",
    "print('V_colmo:', V_colmo, 'm3')\n",
    "\n",
    "# volume zona di colmo per la normativa\n",
    "V = min(2/3 * V_b , V_colmo)\n",
    "print('2/3 V_b:', 2/3 * V_b, 'm3')\n",
    "print('V:', V, 'm3')\n",
    "\n",
    "V_0 = 0.01"
   ]
  },
  {
   "cell_type": "code",
   "execution_count": 8,
   "metadata": {},
   "outputs": [],
   "source": [
    "M_d = 551.875 #kNm\n",
    "V_d = 110.375 #kN\n",
    "\n",
    "M_d = M_d * 10**6 \n",
    "V_d = V_d * 10**3 "
   ]
  },
  {
   "cell_type": "markdown",
   "metadata": {},
   "source": [
    "HP: $ \\sigma_{m,\\alpha,d} = \\sigma_{m,0,d}$"
   ]
  },
  {
   "cell_type": "code",
   "execution_count": 9,
   "metadata": {},
   "outputs": [
    {
     "data": {
      "text/plain": [
       "9.632727272727273"
      ]
     },
     "execution_count": 9,
     "metadata": {},
     "output_type": "execute_result"
    }
   ],
   "source": [
    "sigma_m_alpha_d = 6 * M_d / (b*h_ap**2) # nel punto in mezzeria\n",
    "sigma_m_alpha_d"
   ]
  },
  {
   "cell_type": "code",
   "execution_count": null,
   "metadata": {},
   "outputs": [],
   "source": []
  },
  {
   "cell_type": "markdown",
   "metadata": {},
   "source": [
    "# Parte di trave a doppia rastremazione\n",
    "Capitolo 6.4.3 EC5"
   ]
  },
  {
   "cell_type": "markdown",
   "metadata": {},
   "source": [
    "## Flessione"
   ]
  },
  {
   "cell_type": "code",
   "execution_count": 10,
   "metadata": {},
   "outputs": [
    {
     "data": {
      "text/plain": [
       "14.896551724137932"
      ]
     },
     "execution_count": 10,
     "metadata": {},
     "output_type": "execute_result"
    }
   ],
   "source": [
    "f_md = kmod * f_mk / gammaM\n",
    "f_md"
   ]
  },
  {
   "cell_type": "markdown",
   "metadata": {},
   "source": [
    "da ricontrollare i k"
   ]
  },
  {
   "cell_type": "code",
   "execution_count": 11,
   "metadata": {},
   "outputs": [
    {
     "data": {
      "text/plain": [
       "1"
      ]
     },
     "execution_count": 11,
     "metadata": {},
     "output_type": "execute_result"
    }
   ],
   "source": [
    "t = 30 # spessore lamelle LVL\n",
    "r_in = 17000 #raggio interno se curva o centinata. altrimenti non serve\n",
    "if beamType == 'DoppiaRastremazione':\n",
    "    k_r = 1\n",
    "else:\n",
    "    k_r = 1 if r_in/t >240 else 0.76 + 0.001 * r_in/t\n",
    "    # t spessore lamelle \n",
    "k_r    "
   ]
  },
  {
   "cell_type": "code",
   "execution_count": 20,
   "metadata": {},
   "outputs": [
    {
     "name": "stdout",
     "output_type": "stream",
     "text": [
      "k_l:  1.0934014658411295\n",
      "sigma_md:  10.532438120047827\n",
      "f_md:  14.896551724137932\n"
     ]
    },
    {
     "data": {
      "text/plain": [
       "True"
      ]
     },
     "execution_count": 20,
     "metadata": {},
     "output_type": "execute_result"
    }
   ],
   "source": [
    "alpha_ap = np.radians(3.15) # vedi la figura\n",
    "if beamType == 'DoppiaRastremazione':\n",
    "    k_l = k_1 = 1 + 1.4*np.tan(alpha_ap) + 5.4*np.tan(alpha_ap)**2\n",
    "    print('k_l: ', k_l)\n",
    "else:\n",
    "    k_1 = 1 + 1.4*np.tan(alpha_ap) + 5.4*np.tan(alpha_ap)**2\n",
    "    k_2 = 0.35 - 8*np.tan(alpha_ap)\n",
    "    k_3 = 0.6 + 8.3*np.tan(alpha_ap) - 7.8*np.tan(alpha_ap)**2\n",
    "    k_4 = 6*np.tan(alpha_ap)**2\n",
    "    r = r_in + 0.5 * h_ap\n",
    "    k_l = k_1 + k_2*(h_ap/r) + k_3*(h_ap/r)**2 + k_4*(h_ap/r)**3\n",
    "    print(k_1)\n",
    "    print(k_2)\n",
    "    print(k_3)\n",
    "    print(k_4)\n",
    "    print(r)\n",
    "    print('k_l: ', k_l)\n",
    "\n",
    "sigma_md = k_l * 6 * M_d / (b*h_ap**2) # nel punto in mezzeria\n",
    "\n",
    "print('sigma_md: ', sigma_md)\n",
    "print('f_md: ', f_md)\n",
    "sigma_md < k_r *f_md\n"
   ]
  },
  {
   "cell_type": "markdown",
   "metadata": {},
   "source": [
    "## Trazione 90 all'apice"
   ]
  },
  {
   "cell_type": "code",
   "execution_count": 13,
   "metadata": {},
   "outputs": [
    {
     "name": "stdout",
     "output_type": "stream",
     "text": [
      "k_dis: 1.4\n",
      "k_vol: 0.49425923111187087\n"
     ]
    }
   ],
   "source": [
    "k_dis =  1.4 if beamType == 'DoppiaRastremazione' or  beamType == 'Curva' else  1.7\n",
    "print('k_dis:', k_dis)\n",
    "\n",
    "k_vol = 1 if timberType == 'massiccio' else (V_0/V)**0.2 \n",
    "print('k_vol:', k_vol)"
   ]
  },
  {
   "cell_type": "code",
   "execution_count": 73,
   "metadata": {},
   "outputs": [
    {
     "name": "stdout",
     "output_type": "stream",
     "text": [
      "f_t90d: 0.24827586206896554\n"
     ]
    }
   ],
   "source": [
    "f_t90d = f_t90k * kmod / gammaM\n",
    "print('f_t90d:', f_t90d)"
   ]
  },
  {
   "cell_type": "code",
   "execution_count": 15,
   "metadata": {},
   "outputs": [
    {
     "data": {
      "text/plain": [
       "0.17179769136578132"
      ]
     },
     "execution_count": 15,
     "metadata": {},
     "output_type": "execute_result"
    }
   ],
   "source": [
    "k_dis * k_vol * f_t90d"
   ]
  },
  {
   "cell_type": "code",
   "execution_count": 71,
   "metadata": {},
   "outputs": [
    {
     "name": "stdout",
     "output_type": "stream",
     "text": [
      "k_p: 0.011006665982182707\n"
     ]
    }
   ],
   "source": [
    "# solo per trave doppia rastremazione. aggiungere le altre!\n",
    "k_p = 0.2 * np.tan(alpha) \n",
    "print('k_p:', k_p)"
   ]
  },
  {
   "cell_type": "code",
   "execution_count": 72,
   "metadata": {},
   "outputs": [
    {
     "name": "stdout",
     "output_type": "stream",
     "text": [
      "k_sigma_t90d: 9.632727272727273\n"
     ]
    }
   ],
   "source": [
    "sigma_t90d = 6 * M_d / (b*h_ap**2) # M all'apice!\n",
    "print('k_sigma_t90d:', sigma_t90d)"
   ]
  },
  {
   "cell_type": "code",
   "execution_count": 18,
   "metadata": {},
   "outputs": [
    {
     "data": {
      "text/plain": [
       "0.10602421158837087"
      ]
     },
     "execution_count": 18,
     "metadata": {},
     "output_type": "execute_result"
    }
   ],
   "source": [
    "k_p * sigma_t90d"
   ]
  },
  {
   "cell_type": "code",
   "execution_count": 19,
   "metadata": {},
   "outputs": [
    {
     "data": {
      "text/plain": [
       "True"
      ]
     },
     "execution_count": 19,
     "metadata": {},
     "output_type": "execute_result"
    }
   ],
   "source": [
    "k_p * sigma_t90d < k_dis * k_vol * f_t90d"
   ]
  },
  {
   "cell_type": "markdown",
   "metadata": {},
   "source": [
    "## Taglio + Trazione a $0.5\\cdot h_{ap}$ "
   ]
  },
  {
   "cell_type": "code",
   "execution_count": 43,
   "metadata": {},
   "outputs": [
    {
     "name": "stdout",
     "output_type": "stream",
     "text": [
      "x di 0.5*h_ap:  10375.0\n",
      "h trave a 0.5*h_ap:  1215.6041688056791\n"
     ]
    }
   ],
   "source": [
    "print('x di 0.5*h_ap: ', l/2 -0.5*h_ap) \n",
    "print('h trave a 0.5*h_ap: ', h_ap_05)"
   ]
  },
  {
   "cell_type": "code",
   "execution_count": 76,
   "metadata": {},
   "outputs": [
    {
     "data": {
      "text/plain": [
       "1.6758620689655175"
      ]
     },
     "execution_count": 76,
     "metadata": {},
     "output_type": "execute_result"
    }
   ],
   "source": [
    "f_vd = f_vk * kmod / gammaM\n",
    "f_vd"
   ]
  },
  {
   "cell_type": "code",
   "execution_count": 75,
   "metadata": {},
   "outputs": [
    {
     "name": "stdout",
     "output_type": "stream",
     "text": [
      "203.70370370370367\n"
     ]
    },
    {
     "data": {
      "text/plain": [
       "0.04064727272727273"
      ]
     },
     "execution_count": 75,
     "metadata": {},
     "output_type": "execute_result"
    }
   ],
   "source": [
    "b_eff = 2.5/f_vk * b\n",
    "print(b_eff)\n",
    "\n",
    "tau_d = V * 1.5 / (b_eff * h_ap)\n",
    "tau_d"
   ]
  },
  {
   "cell_type": "code",
   "execution_count": 65,
   "metadata": {},
   "outputs": [],
   "source": [
    "M = 549.42 *10**6\n",
    "V = 6.9    *10**3\n",
    "\n",
    "tau_d_05ap = 1.5*V/(0.67*b*h_ap_05)"
   ]
  },
  {
   "cell_type": "code",
   "execution_count": 69,
   "metadata": {},
   "outputs": [
    {
     "name": "stdout",
     "output_type": "stream",
     "text": [
      "sigma_t90d:  0.11161034735739953\n"
     ]
    }
   ],
   "source": [
    "def sigma_t90d(M_d,b,h,k_p):\n",
    "    sigma_t90d = 6 * M_d / (b*h**2) * k_p\n",
    "    print('sigma_t90d: ', sigma_t90d)\n",
    "    return sigma_t90d\n",
    "\n",
    "sigma_t90d_05ap = sigma_t90d(M , b , h_ap_05 , k_p)"
   ]
  },
  {
   "cell_type": "code",
   "execution_count": 68,
   "metadata": {},
   "outputs": [
    {
     "data": {
      "text/plain": [
       "0.6841292173801468"
      ]
     },
     "execution_count": 68,
     "metadata": {},
     "output_type": "execute_result"
    }
   ],
   "source": [
    "tau_d_05ap/f_vd + sigma_t90d_05ap/(f_t90d * k_dis * k_vol) "
   ]
  },
  {
   "cell_type": "code",
   "execution_count": 70,
   "metadata": {},
   "outputs": [
    {
     "data": {
      "text/plain": [
       "True"
      ]
     },
     "execution_count": 70,
     "metadata": {},
     "output_type": "execute_result"
    }
   ],
   "source": [
    "tau_d_05ap/f_vd + sigma_t90d_05ap/(f_t90d * k_dis * k_vol) < 1"
   ]
  },
  {
   "cell_type": "code",
   "execution_count": null,
   "metadata": {},
   "outputs": [],
   "source": [
    "M_max = 382*10**6 # M corrispondente alla x_max"
   ]
  },
  {
   "cell_type": "code",
   "execution_count": 97,
   "metadata": {},
   "outputs": [
    {
     "name": "stdout",
     "output_type": "stream",
     "text": [
      "x_max:  6160.0\n",
      "h_max:  983.6386832311784\n",
      "sigma_md_max:  10.767645103110338\n"
     ]
    }
   ],
   "source": [
    "# Solo se trave simmetrica e carico distribuito!\n",
    "x_max = l * h_0 / (2*h_ap)\n",
    "print('x_max: ', x_max)\n",
    "\n",
    "h_max = h_ap - np.tan(alpha)*(l/2 -x_max) # altezza corrispondente alla x_max\n",
    "print('h_max: ', h_max)\n",
    "\n",
    "sigma_md_max = 6*M_max / (b*h_max**2)\n",
    "print('sigma_md_max: ', sigma_md_max)"
   ]
  },
  {
   "cell_type": "code",
   "execution_count": 93,
   "metadata": {},
   "outputs": [
    {
     "data": {
      "text/plain": [
       "1.6758620689655175"
      ]
     },
     "execution_count": 93,
     "metadata": {},
     "output_type": "execute_result"
    }
   ],
   "source": [
    "f_c90d = f_c90k * kmod / gammaM\n",
    "f_c90d"
   ]
  },
  {
   "cell_type": "code",
   "execution_count": 95,
   "metadata": {},
   "outputs": [
    {
     "data": {
      "text/plain": [
       "0.9504083645001634"
      ]
     },
     "execution_count": 95,
     "metadata": {},
     "output_type": "execute_result"
    }
   ],
   "source": [
    "k_mAlpha_compressione = 1 / np.sqrt(1 + (np.tan(alpha)*f_md/(1.5*f_vd))**2 + ((np.tan(alpha))**2*f_md/f_c90d)**2 )\n",
    "k_mAlpha_compressione"
   ]
  },
  {
   "cell_type": "code",
   "execution_count": 96,
   "metadata": {},
   "outputs": [
    {
     "data": {
      "text/plain": [
       "14.157807360830022"
      ]
     },
     "execution_count": 96,
     "metadata": {},
     "output_type": "execute_result"
    }
   ],
   "source": [
    "k_mAlpha_compressione * f_md"
   ]
  },
  {
   "cell_type": "code",
   "execution_count": 94,
   "metadata": {},
   "outputs": [
    {
     "data": {
      "text/plain": [
       "1.6758620689655175"
      ]
     },
     "execution_count": 94,
     "metadata": {},
     "output_type": "execute_result"
    }
   ],
   "source": []
  },
  {
   "cell_type": "markdown",
   "metadata": {},
   "source": [
    "## Stabilità flessotorsionale"
   ]
  },
  {
   "cell_type": "code",
   "execution_count": 113,
   "metadata": {},
   "outputs": [
    {
     "name": "stdout",
     "output_type": "stream",
     "text": [
      "l_eff:  19800.0\n",
      "l_eff/l:  0.9\n",
      "sigma_mcrit:  14.387493428411121\n",
      "lambda_relm:  1.2915554362115353\n",
      "k_crit:  0.5994788928504635\n"
     ]
    }
   ],
   "source": [
    "# Vedi pagina 291 del libro\n",
    "h=h_ap\n",
    "\n",
    "l_t = l # distanza tra due ritegni torsionali successivi \n",
    "a1 = 1.13\n",
    "a2 = 1.44\n",
    "az = h/2\n",
    "\n",
    "# caso generico per il RETTANGOLO e non semplificato per h/b > 4\n",
    "B = E0mean * b**3 * h / 12 # rigidezza flessionale attorno asse z\n",
    "T = Gmean * b**3 * h / (3*(1 + 0.6 * b/h)) # rigidezza torsionale \n",
    "\n",
    "#l_eff = l_t / (a1 * (1 - a2 * az/l_t * np.sqrt(B/T)))\n",
    "l_eff = 0.9*l\n",
    "\n",
    "sigma_mcrit = np.pi/l_eff * b**2 / h * E005 * np.sqrt(Gmean/E0mean)\n",
    "lambda_relm = np.sqrt(f_mk/sigma_mcrit)\n",
    "if lambda_relm < 0.75:\n",
    "    k_crit = 1\n",
    "elif lambda_relm < 1.14:\n",
    "    k_crit = 1.56 - .75*lambda_relm\n",
    "else:\n",
    "    k_crit = 1/(lambda_relm**2)\n",
    "\n",
    "print('l_eff: ', l_eff)\n",
    "print('l_eff/l: ', l_eff/l)\n",
    "print('sigma_mcrit: ', sigma_mcrit)\n",
    "print('lambda_relm: ', lambda_relm)\n",
    "print('k_crit: ', k_crit)"
   ]
  },
  {
   "cell_type": "code",
   "execution_count": 121,
   "metadata": {},
   "outputs": [
    {
     "data": {
      "text/plain": [
       "2889290882778.582"
      ]
     },
     "execution_count": 121,
     "metadata": {},
     "output_type": "execute_result"
    }
   ],
   "source": [
    "T"
   ]
  },
  {
   "cell_type": "code",
   "execution_count": 118,
   "metadata": {},
   "outputs": [
    {
     "data": {
      "text/plain": [
       "12866333333333.334"
      ]
     },
     "execution_count": 118,
     "metadata": {},
     "output_type": "execute_result"
    }
   ],
   "source": [
    "B"
   ]
  },
  {
   "cell_type": "code",
   "execution_count": 119,
   "metadata": {},
   "outputs": [
    {
     "ename": "NameError",
     "evalue": "name 'J' is not defined",
     "output_type": "error",
     "traceback": [
      "\u001b[0;31m---------------------------------------------------------------------------\u001b[0m",
      "\u001b[0;31mNameError\u001b[0m                                 Traceback (most recent call last)",
      "\u001b[0;32m<ipython-input-119-11d7d7ce0b68>\u001b[0m in \u001b[0;36m<module>\u001b[0;34m\u001b[0m\n\u001b[0;32m----> 1\u001b[0;31m \u001b[0mJ\u001b[0m\u001b[0;34m\u001b[0m\u001b[0;34m\u001b[0m\u001b[0m\n\u001b[0m",
      "\u001b[0;31mNameError\u001b[0m: name 'J' is not defined"
     ]
    }
   ],
   "source": [
    "J"
   ]
  },
  {
   "cell_type": "code",
   "execution_count": 110,
   "metadata": {},
   "outputs": [
    {
     "data": {
      "text/plain": [
       "False"
      ]
     },
     "execution_count": 110,
     "metadata": {},
     "output_type": "execute_result"
    }
   ],
   "source": [
    "sigma_md < k_crit * f_md"
   ]
  },
  {
   "cell_type": "code",
   "execution_count": 109,
   "metadata": {},
   "outputs": [
    {
     "data": {
      "text/plain": [
       "10.532438120047827"
      ]
     },
     "execution_count": 109,
     "metadata": {},
     "output_type": "execute_result"
    }
   ],
   "source": [
    "sigma_md"
   ]
  },
  {
   "cell_type": "code",
   "execution_count": 111,
   "metadata": {},
   "outputs": [
    {
     "data": {
      "text/plain": [
       "8.29795207757759"
      ]
     },
     "execution_count": 111,
     "metadata": {},
     "output_type": "execute_result"
    }
   ],
   "source": [
    "k_crit * f_md"
   ]
  },
  {
   "cell_type": "code",
   "execution_count": null,
   "metadata": {},
   "outputs": [],
   "source": []
  }
 ],
 "metadata": {
  "kernelspec": {
   "display_name": "Python 3",
   "language": "python",
   "name": "python3"
  },
  "language_info": {
   "codemirror_mode": {
    "name": "ipython",
    "version": 3
   },
   "file_extension": ".py",
   "mimetype": "text/x-python",
   "name": "python",
   "nbconvert_exporter": "python",
   "pygments_lexer": "ipython3",
   "version": "3.7.7"
  }
 },
 "nbformat": 4,
 "nbformat_minor": 4
}
