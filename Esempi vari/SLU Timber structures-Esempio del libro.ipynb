{
 "cells": [
  {
   "cell_type": "code",
   "execution_count": 8,
   "metadata": {},
   "outputs": [],
   "source": [
    "import numpy as np\n",
    "import matplotlib.pyplot as plt"
   ]
  },
  {
   "cell_type": "code",
   "execution_count": 1,
   "metadata": {},
   "outputs": [],
   "source": [
    "# N/mm2\n",
    "f_mk = 27.6\n",
    "f_vk = 2.7\n",
    "f_c90k = 2.7\n",
    "E0mean = 11600\n",
    "E005 = 9400\n",
    "Gmean = 720\n",
    "\n",
    "gammaM = 1.25\n",
    "kmod = 0.6"
   ]
  },
  {
   "cell_type": "code",
   "execution_count": 2,
   "metadata": {},
   "outputs": [],
   "source": [
    "M_d = 8.44 #kNm\n",
    "V_d = 6.75 #kN\n",
    "\n",
    "M_d = M_d * 10**6 \n",
    "V_d = V_d * 10**3 "
   ]
  },
  {
   "cell_type": "markdown",
   "metadata": {},
   "source": [
    "### Flessione\n",
    "$$ \\sigma_{m,d} = \\frac{M_d}{W}\\leq f_{m,d} = \\frac{k_{mod} \\cdot f_{m,k}}{\\gamma_M} $$ \n",
    "\n",
    "sbandamento\n",
    "$$ \\sigma_{m,d} \\leq k_{crit} \\cdot f_{m,d} $$ "
   ]
  },
  {
   "cell_type": "code",
   "execution_count": 3,
   "metadata": {},
   "outputs": [],
   "source": [
    "b = 120\n",
    "h = 196\n",
    "\n",
    "l_eff = 500 # sbandamento"
   ]
  },
  {
   "cell_type": "code",
   "execution_count": 4,
   "metadata": {},
   "outputs": [
    {
     "name": "stdout",
     "output_type": "stream",
     "text": [
      "768320.0\n",
      "75295360.0\n",
      "10.985006247396917\n"
     ]
    }
   ],
   "source": [
    "W = b * h**2 / 6 #sezioni rettangolari\n",
    "print(W)\n",
    "J = b*h**3 / 12\n",
    "print(J)\n",
    "\n",
    "sigma_md = M_d / W\n",
    "print(sigma_md)"
   ]
  },
  {
   "cell_type": "code",
   "execution_count": 5,
   "metadata": {},
   "outputs": [
    {
     "data": {
      "text/plain": [
       "13.248"
      ]
     },
     "execution_count": 5,
     "metadata": {},
     "output_type": "execute_result"
    }
   ],
   "source": [
    "f_md = kmod * f_mk / gammaM\n",
    "f_md"
   ]
  },
  {
   "cell_type": "code",
   "execution_count": 10,
   "metadata": {},
   "outputs": [
    {
     "name": "stdout",
     "output_type": "stream",
     "text": [
      "0.1597823642104806\n",
      "1\n"
     ]
    }
   ],
   "source": [
    "sigma_mcrit = np.pi/l_eff * b**2 / h * E005 * np.sqrt(Gmean/E0mean)\n",
    "lambda_relm = np.sqrt(f_mk/sigma_mcrit)\n",
    "if lambda_relm < 0.75:\n",
    "    kcrit = 1\n",
    "elif lambda_relm < 1.14:\n",
    "    kcrit = 1.56 - .75*lambda_relm\n",
    "else:\n",
    "    kcrit = 1/(lambda_relm**2)\n",
    "    \n",
    "print(lambda_relm)\n",
    "print(kcrit)"
   ]
  },
  {
   "cell_type": "code",
   "execution_count": 11,
   "metadata": {},
   "outputs": [
    {
     "data": {
      "text/plain": [
       "True"
      ]
     },
     "execution_count": 11,
     "metadata": {},
     "output_type": "execute_result"
    }
   ],
   "source": [
    "sigma_md < kcrit * f_md"
   ]
  },
  {
   "cell_type": "markdown",
   "metadata": {},
   "source": [
    "### Taglio"
   ]
  },
  {
   "cell_type": "code",
   "execution_count": 14,
   "metadata": {},
   "outputs": [
    {
     "name": "stdout",
     "output_type": "stream",
     "text": [
      "0.430484693877551\n",
      "1.296\n"
     ]
    }
   ],
   "source": [
    "#kcrit legno lamellare\n",
    "#b_eff = 2.5/f_vk * b\n",
    "#print(b_eff)\n",
    "b_eff = b\n",
    "\n",
    "tau_d = V_d * 1.5 / (b_eff * h)\n",
    "print(tau_d)\n",
    "\n",
    "f_vd = kmod * f_vk / gammaM\n",
    "print(f_vd)"
   ]
  },
  {
   "cell_type": "code",
   "execution_count": 15,
   "metadata": {},
   "outputs": [
    {
     "data": {
      "text/plain": [
       "True"
      ]
     },
     "execution_count": 15,
     "metadata": {},
     "output_type": "execute_result"
    }
   ],
   "source": [
    "tau_d < f_vd"
   ]
  },
  {
   "cell_type": "markdown",
   "metadata": {},
   "source": [
    "## SLE "
   ]
  },
  {
   "cell_type": "code",
   "execution_count": 18,
   "metadata": {},
   "outputs": [
    {
     "name": "stdout",
     "output_type": "stream",
     "text": [
      "19.07759339290107\n",
      "262.08756508357817\n",
      "True\n",
      "\n",
      "\n",
      "5.72327801787032\n",
      "873.6252169452607\n",
      "True\n",
      "\n",
      "\n",
      "16.666666666666668\n",
      "10.0\n"
     ]
    }
   ],
   "source": [
    "q = [2.0,0.6] #Le varie combinazioni\n",
    "l = 5000\n",
    "\n",
    "def w_inst(q):\n",
    "    chi = 1.2\n",
    "    \n",
    "    w_inst_M = 5/384 * q * l**4 / (E0mean * J)\n",
    "    w_inst_V = chi * 1/8 * q * l**2 / (Gmean * b * h)\n",
    "    w_inst = w_inst_M + w_inst_V\n",
    "    \n",
    "    return w_inst\n",
    "\n",
    "w=[]\n",
    "for qq in q:\n",
    "    w_i = w_inst(qq)\n",
    "    w.append(w_i)\n",
    "    print(w_i)\n",
    "    print(l/w_i)\n",
    "    print(l/w_i>150)\n",
    "    print('\\n')\n",
    "\n",
    "print(l/300)\n",
    "print(l/500)"
   ]
  },
  {
   "cell_type": "code",
   "execution_count": 21,
   "metadata": {},
   "outputs": [
    {
     "data": {
      "text/plain": [
       "36.93422080865647"
      ]
     },
     "execution_count": 21,
     "metadata": {},
     "output_type": "execute_result"
    }
   ],
   "source": [
    "k_def = 0.6\n",
    "psi2 = 0.2\n",
    "w_netFin = w[0]*(1 + k_def) + w[1]*(1 + psi2*k_def)\n",
    "w_netFin"
   ]
  },
  {
   "cell_type": "code",
   "execution_count": null,
   "metadata": {},
   "outputs": [],
   "source": []
  }
 ],
 "metadata": {
  "kernelspec": {
   "display_name": "Python 3",
   "language": "python",
   "name": "python3"
  },
  "language_info": {
   "codemirror_mode": {
    "name": "ipython",
    "version": 3
   },
   "file_extension": ".py",
   "mimetype": "text/x-python",
   "name": "python",
   "nbconvert_exporter": "python",
   "pygments_lexer": "ipython3",
   "version": "3.7.7"
  }
 },
 "nbformat": 4,
 "nbformat_minor": 4
}
