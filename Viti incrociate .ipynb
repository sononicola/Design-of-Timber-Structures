{
 "cells": [
  {
   "cell_type": "code",
   "execution_count": 1,
   "metadata": {},
   "outputs": [],
   "source": [
    "import numpy as np"
   ]
  },
  {
   "cell_type": "markdown",
   "metadata": {},
   "source": [
    "1: trave principale \n",
    "2: trave secondaria"
   ]
  },
  {
   "cell_type": "code",
   "execution_count": 18,
   "metadata": {},
   "outputs": [
    {
     "name": "stdout",
     "output_type": "stream",
     "text": [
      "F_comp: 5447.5506422611625\n",
      "F_traz: 5447.5506422611625\n"
     ]
    }
   ],
   "source": [
    "d = 10 # mm\n",
    "d2 = 6.2 # mm\n",
    "l = 220 # mm \n",
    "f_uk = 600 # Mpa\n",
    "gamma_M1 = 1.05\n",
    "gamma_M2 = 1.25 # acciao. tabella 4.2 vii ntc\n",
    "gammaM = 1.5 #legno\n",
    "kmod = 0.9\n",
    "\n",
    "rho_k1 = 380\n",
    "rho_k2 = 380\n",
    "\n",
    "l_ef1 = 100\n",
    "l_ef2 = 100\n",
    "\n",
    "V_d = 7704 # N\n",
    "alpha = 45 # gradi\n",
    "\n",
    "alpha = np.radians(alpha)\n",
    "\n",
    "#sistemare per altri angoli!\n",
    "F_comp = F_traz = V_d * np.cos(alpha)\n",
    "print('F_comp:', F_comp)\n",
    "print('F_traz:', F_traz)"
   ]
  },
  {
   "cell_type": "code",
   "execution_count": 11,
   "metadata": {},
   "outputs": [
    {
     "data": {
      "text/plain": [
       "10000.0"
      ]
     },
     "execution_count": 11,
     "metadata": {},
     "output_type": "execute_result"
    }
   ],
   "source": [
    "6000*gammaM / kmod"
   ]
  },
  {
   "cell_type": "markdown",
   "metadata": {},
   "source": [
    "### a) Rottura vite acciaio"
   ]
  },
  {
   "cell_type": "code",
   "execution_count": 25,
   "metadata": {},
   "outputs": [
    {
     "name": "stdout",
     "output_type": "stream",
     "text": [
      "f_ax_rk_vite: 16302.980916538876\n",
      "f_ax_rd_vite: 13042.384733231102\n"
     ]
    }
   ],
   "source": [
    "A_res = np.pi * d2 **2 / 4\n",
    "f_ax_rk_vite = 0.9 * A_res * f_uk \n",
    "f_ax_rd_vite = f_ax_rk_vite/gamma_M2\n",
    "print('f_ax_rk_vite:', f_ax_rk_vite)\n",
    "print('f_ax_rd_vite:', f_ax_rd_vite)"
   ]
  },
  {
   "cell_type": "markdown",
   "metadata": {},
   "source": [
    "### b) Estrazione 1 -- 8.38 EC5\n",
    "modificare il rho1 in rho2!"
   ]
  },
  {
   "cell_type": "code",
   "execution_count": 26,
   "metadata": {},
   "outputs": [
    {
     "name": "stdout",
     "output_type": "stream",
     "text": [
      "f_ax_k_1: 12.01794524325782\n",
      "k_d: 1\n",
      "F_ax_rk_1: 12017.94524325782\n",
      "F_ax_rd_1: 7210.767145954692\n"
     ]
    }
   ],
   "source": [
    "alpha_fib1 = 90\n",
    "\n",
    "n_ef = 1 # n**0.9 \n",
    "f_ax_k_1 = 0.52 * d**-0.5 * l_ef1 **-0.1 * rho_k1**0.8\n",
    "k_d = min(d/8, 1)\n",
    "\n",
    "F_ax_rk_1 = (n_ef * f_ax_k_1 * d * l_ef1 * k_d) / (1.2 * np.cos(np.radians(alpha_fib1))**2 + np.sin(np.radians(alpha_fib1))**2)\n",
    "F_ax_rd_1 = F_ax_rk_1/gammaM * kmod\n",
    "\n",
    "print('f_ax_k_1:', f_ax_k_1)\n",
    "print('k_d:', k_d)\n",
    "print('F_ax_rk_1:', F_ax_rk_1)\n",
    "print('F_ax_rd_1:', F_ax_rd_1)"
   ]
  },
  {
   "cell_type": "markdown",
   "metadata": {},
   "source": [
    "### c) Estrazione 2 -- 8.38 EC5"
   ]
  },
  {
   "cell_type": "code",
   "execution_count": 28,
   "metadata": {},
   "outputs": [
    {
     "name": "stdout",
     "output_type": "stream",
     "text": [
      "f_ax_k_2: 12.01794524325782\n",
      "k_d: 1\n",
      "F_ax_rk_2: 10925.404766598018\n",
      "F_ax_rd_2: 6555.242859958811\n"
     ]
    }
   ],
   "source": [
    "alpha_fib2 = 45\n",
    "\n",
    "n_ef = 1 # n**0.9 \n",
    "f_ax_k_2 = 0.52 * d**-0.5 * l_ef2 **-0.1 * rho_k2**0.8\n",
    "k_d = min(d/8, 1)\n",
    "\n",
    "F_ax_rk_2 = (n_ef * f_ax_k_2 * d * l_ef2 * k_d) / (1.2 * np.cos(np.radians(alpha_fib2))**2 + np.sin(np.radians(alpha_fib2))**2)\n",
    "F_ax_rd_2 = F_ax_rk_2/gammaM * kmod\n",
    "\n",
    "print('f_ax_k_2:', f_ax_k_2)\n",
    "print('k_d:', k_d)\n",
    "print('F_ax_rk_2:', F_ax_rk_2)\n",
    "print('F_ax_rd_2:', F_ax_rd_2)"
   ]
  },
  {
   "cell_type": "markdown",
   "metadata": {},
   "source": [
    "### d) buckling -- eta 11/0190 A.1.3.3 \n",
    "https://www.wuerth.de/web/media/downloads/pdf/zulassungen/holzbauschraubentransportanker/eta_110190_en.pdf\n",
    "\n",
    "aggiungere c_h = min(1 2)"
   ]
  },
  {
   "cell_type": "code",
   "execution_count": 29,
   "metadata": {},
   "outputs": [
    {
     "name": "stdout",
     "output_type": "stream",
     "text": [
      "N_pl_k: 18114.42324059875\n",
      "c_h: 88.35\n",
      "E_s: 210000\n",
      "I_s: 72.5331697258975\n",
      "N_ki_k: 36684.38584070121\n",
      "lambda_k: 0.7027027110345155\n",
      "k: 0.8700577142510852\n",
      "k_c: 0.7230150797826382\n",
      "F_ax_rk_buck: 13097.001164517982\n",
      "F_ax_rd_buck: 12473.334442398078\n"
     ]
    }
   ],
   "source": [
    "N_pl_k = np.pi * d2**2 / 4 * f_uk\n",
    "#N_pl_k = 5670.6\n",
    "\n",
    "c_h = (0.19 + 0.012*d)*rho_k2*((90 + alpha_fib2) / 180)\n",
    "E_s = 210000\n",
    "I_s = np.pi * d2**4 / 64\n",
    "N_ki_k = np.sqrt(c_h * E_s * I_s)\n",
    "\n",
    "lambda_k = np.sqrt(N_pl_k / N_ki_k)\n",
    "\n",
    "k = 0.5 * (1 + 0.49*(lambda_k-0.2) + lambda_k**2)\n",
    "k_c = 1 / (k + np.sqrt(k**2 - lambda_k**2)) if lambda_k > 0.2 else  1\n",
    "\n",
    "F_ax_rk_buck = N_pl_k * k_c\n",
    "F_ax_rd_buck = F_ax_rk_buck / gamma_M1\n",
    "\n",
    "print('N_pl_k:', N_pl_k)\n",
    "print('c_h:', c_h)\n",
    "print('E_s:', E_s)\n",
    "print('I_s:', I_s)\n",
    "print('N_ki_k:', N_ki_k)\n",
    "print('lambda_k:', lambda_k)\n",
    "print('k:', k)\n",
    "print('k_c:', k_c)\n",
    "print('F_ax_rk_buck:', F_ax_rk_buck)\n",
    "print('F_ax_rd_buck:', F_ax_rd_buck)"
   ]
  },
  {
   "cell_type": "code",
   "execution_count": 7,
   "metadata": {},
   "outputs": [
    {
     "data": {
      "text/plain": [
       "83.5125"
      ]
     },
     "execution_count": 7,
     "metadata": {},
     "output_type": "execute_result"
    }
   ],
   "source": [
    "(0.19 + 0.012*d)*rho_k2*((90 + alpha_fib2) / 180)"
   ]
  },
  {
   "cell_type": "code",
   "execution_count": 8,
   "metadata": {},
   "outputs": [
    {
     "data": {
      "text/plain": [
       "111.35000000000001"
      ]
     },
     "execution_count": 8,
     "metadata": {},
     "output_type": "execute_result"
    }
   ],
   "source": [
    "(0.19 + 0.012*d)*rho_k1*((90 + alpha_fib1) / 180)"
   ]
  },
  {
   "cell_type": "code",
   "execution_count": null,
   "metadata": {},
   "outputs": [],
   "source": []
  }
 ],
 "metadata": {
  "kernelspec": {
   "display_name": "Python 3",
   "language": "python",
   "name": "python3"
  },
  "language_info": {
   "codemirror_mode": {
    "name": "ipython",
    "version": 3
   },
   "file_extension": ".py",
   "mimetype": "text/x-python",
   "name": "python",
   "nbconvert_exporter": "python",
   "pygments_lexer": "ipython3",
   "version": "3.7.7"
  }
 },
 "nbformat": 4,
 "nbformat_minor": 4
}
