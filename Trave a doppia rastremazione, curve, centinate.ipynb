{
 "cells": [
  {
   "cell_type": "markdown",
   "metadata": {},
   "source": [
    "# Parte di trave a rastremazione semplice\n",
    "Capitolo 6.4.2 EC5. Fino a $0.5 h_{ap}$ dall'asse di simmetria"
   ]
  },
  {
   "cell_type": "code",
   "execution_count": 1,
   "metadata": {},
   "outputs": [],
   "source": [
    "import numpy as np"
   ]
  },
  {
   "cell_type": "code",
   "execution_count": 2,
   "metadata": {},
   "outputs": [],
   "source": [
    "beamType = 'DoppiaRastremazione'\n",
    "\n",
    "# beamType = 'Curva'\n",
    "# beamType = 'Centinata'\n",
    "\n",
    "timberType = 'lamellare'\n",
    "# timberType = 'massiccio'"
   ]
  },
  {
   "cell_type": "code",
   "execution_count": 3,
   "metadata": {},
   "outputs": [],
   "source": [
    "# N/mm2\n",
    "f_mk = 28\n",
    "f_vk = 3.5\n",
    "f_c90k = 2.5\n",
    "f_t90k = 0.5\n",
    "E0mean = 12600\n",
    "E005 = 10500\n",
    "Gmean = 650\n",
    "\n",
    "gammaM = 1.45\n",
    "kmod = 0.9\n",
    "\n",
    "alpha = 3.5 # in gradi °\n",
    "b = 240\n",
    "h_ap = 1800-800 # altezza apice\n",
    "h_0 = 1315-800 # altezza appoggio\n",
    "l = 16000 \n",
    "\n",
    "alpha = np.radians(alpha)"
   ]
  },
  {
   "cell_type": "code",
   "execution_count": 4,
   "metadata": {},
   "outputs": [
    {
     "name": "stdout",
     "output_type": "stream",
     "text": [
      "V_b: 2.9088 m3\n",
      "V_colmo: 0.23633024279097095 m3\n",
      "2/3 V_b: 1.9391999999999998 m3\n",
      "V: 0.23633024279097095 m3\n"
     ]
    }
   ],
   "source": [
    "# volume della trave \n",
    "V_b = (h_ap + h_0) * l/2 * b \n",
    "V_b = V_b/10**9 # da mm3 a m3\n",
    "print('V_b:', V_b, 'm3')\n",
    "\n",
    "# vale solo per la trave a doppia rastremazione:\n",
    "# volume della zona di colmo\n",
    "# formula alternativa: b * h_ap**2 * (1 - 0.25 * np.tan(alpha)) / 10**9\n",
    "h_ap_05 = h_ap - np.tan(alpha)*0.5*h_ap\n",
    "V_colmo =  (h_ap_05 + h_ap) * 0.5*h_ap * b\n",
    "V_colmo = V_colmo/10**9\n",
    "print('V_colmo:', V_colmo, 'm3')\n",
    "\n",
    "# volume zona di colmo per la normativa\n",
    "V = min(2/3 * V_b , V_colmo)\n",
    "print('2/3 V_b:', 2/3 * V_b, 'm3')\n",
    "print('V:', V, 'm3')\n",
    "\n",
    "V_0 = 0.01"
   ]
  },
  {
   "cell_type": "code",
   "execution_count": 5,
   "metadata": {},
   "outputs": [],
   "source": [
    "M_d = 540 #kNm\n",
    "V_d = 127 #kN\n",
    "\n",
    "M_d = M_d * 10**6 \n",
    "V_d = V_d * 10**3 "
   ]
  },
  {
   "cell_type": "markdown",
   "metadata": {},
   "source": [
    "HP: $ \\sigma_{m,\\alpha,d} = \\sigma_{m,0,d}$"
   ]
  },
  {
   "cell_type": "code",
   "execution_count": 6,
   "metadata": {},
   "outputs": [
    {
     "data": {
      "text/plain": [
       "13.5"
      ]
     },
     "execution_count": 6,
     "metadata": {},
     "output_type": "execute_result"
    }
   ],
   "source": [
    "sigma_m_alpha_d = 6 * M_d / (b*h_ap**2) # nel punto in mezzeria\n",
    "sigma_m_alpha_d"
   ]
  },
  {
   "cell_type": "code",
   "execution_count": null,
   "metadata": {},
   "outputs": [],
   "source": []
  },
  {
   "cell_type": "markdown",
   "metadata": {},
   "source": [
    "# Parte di trave a doppia rastremazione\n",
    "Capitolo 6.4.3 EC5"
   ]
  },
  {
   "cell_type": "markdown",
   "metadata": {},
   "source": [
    "## Flessione"
   ]
  },
  {
   "cell_type": "code",
   "execution_count": 7,
   "metadata": {},
   "outputs": [
    {
     "data": {
      "text/plain": [
       "17.379310344827587"
      ]
     },
     "execution_count": 7,
     "metadata": {},
     "output_type": "execute_result"
    }
   ],
   "source": [
    "f_md = kmod * f_mk / gammaM\n",
    "f_md"
   ]
  },
  {
   "cell_type": "markdown",
   "metadata": {},
   "source": [
    "da ricontrollare i k"
   ]
  },
  {
   "cell_type": "code",
   "execution_count": 8,
   "metadata": {},
   "outputs": [
    {
     "data": {
      "text/plain": [
       "1"
      ]
     },
     "execution_count": 8,
     "metadata": {},
     "output_type": "execute_result"
    }
   ],
   "source": [
    "t = 30 # spessore lamelle LVL\n",
    "r_in = 17000 #raggio interno se curva o centinata. altrimenti non serve\n",
    "if beamType == 'DoppiaRastremazione':\n",
    "    k_r = 1\n",
    "else:\n",
    "    k_r = 1 if r_in/t >240 else 0.76 + 0.001 * r_in/t\n",
    "    # t spessore lamelle \n",
    "k_r    "
   ]
  },
  {
   "cell_type": "code",
   "execution_count": 9,
   "metadata": {},
   "outputs": [
    {
     "name": "stdout",
     "output_type": "stream",
     "text": [
      "k_l:  1.105828345170509\n",
      "sigma_md:  14.928682659801874\n",
      "f_md:  17.379310344827587\n"
     ]
    },
    {
     "data": {
      "text/plain": [
       "True"
      ]
     },
     "execution_count": 9,
     "metadata": {},
     "output_type": "execute_result"
    }
   ],
   "source": [
    "alpha_ap = np.radians(3.5) # vedi la figura\n",
    "if beamType == 'DoppiaRastremazione':\n",
    "    k_l = k_1 = 1 + 1.4*np.tan(alpha_ap) + 5.4*np.tan(alpha_ap)**2\n",
    "    print('k_l: ', k_l)\n",
    "else:\n",
    "    k_1 = 1 + 1.4*np.tan(alpha_ap) + 5.4*np.tan(alpha_ap)**2\n",
    "    k_2 = 0.35 - 8*np.tan(alpha_ap)\n",
    "    k_3 = 0.6 + 8.3*np.tan(alpha_ap) - 7.8*np.tan(alpha_ap)**2\n",
    "    k_4 = 6*np.tan(alpha_ap)**2\n",
    "    r = r_in + 0.5 * h_ap\n",
    "    k_l = k_1 + k_2*(h_ap/r) + k_3*(h_ap/r)**2 + k_4*(h_ap/r)**3\n",
    "    print(k_1)\n",
    "    print(k_2)\n",
    "    print(k_3)\n",
    "    print(k_4)\n",
    "    print(r)\n",
    "    print('k_l: ', k_l)\n",
    "\n",
    "sigma_md = k_l * 6 * M_d / (b*h_ap**2) # nel punto in mezzeria\n",
    "\n",
    "print('sigma_md: ', sigma_md)\n",
    "print('f_md: ', f_md)\n",
    "sigma_md < k_r *f_md\n"
   ]
  },
  {
   "cell_type": "markdown",
   "metadata": {},
   "source": [
    "## Trazione 90 all'apice"
   ]
  },
  {
   "cell_type": "code",
   "execution_count": 10,
   "metadata": {},
   "outputs": [
    {
     "name": "stdout",
     "output_type": "stream",
     "text": [
      "k_dis: 1.4\n",
      "k_vol: 0.5312465708965657\n"
     ]
    }
   ],
   "source": [
    "k_dis =  1.4 if beamType == 'DoppiaRastremazione' or  beamType == 'Curva' else  1.7\n",
    "print('k_dis:', k_dis)\n",
    "\n",
    "k_vol = 1 if timberType == 'massiccio' else (V_0/V)**0.2 \n",
    "print('k_vol:', k_vol)"
   ]
  },
  {
   "cell_type": "code",
   "execution_count": 11,
   "metadata": {},
   "outputs": [
    {
     "data": {
      "text/plain": [
       "0.3103448275862069"
      ]
     },
     "execution_count": 11,
     "metadata": {},
     "output_type": "execute_result"
    }
   ],
   "source": [
    "f_t90d = f_t90k * kmod / gammaM\n",
    "f_t90d"
   ]
  },
  {
   "cell_type": "code",
   "execution_count": 12,
   "metadata": {},
   "outputs": [
    {
     "data": {
      "text/plain": [
       "0.23081747563092161"
      ]
     },
     "execution_count": 12,
     "metadata": {},
     "output_type": "execute_result"
    }
   ],
   "source": [
    "k_dis * k_vol * f_t90d"
   ]
  },
  {
   "cell_type": "code",
   "execution_count": 13,
   "metadata": {},
   "outputs": [
    {
     "data": {
      "text/plain": [
       "0.012232524030096862"
      ]
     },
     "execution_count": 13,
     "metadata": {},
     "output_type": "execute_result"
    }
   ],
   "source": [
    "# solo per trave doppia rastremazione. aggiungere le altre!\n",
    "k_p = 0.2 * np.tan(alpha) \n",
    "k_p"
   ]
  },
  {
   "cell_type": "code",
   "execution_count": 14,
   "metadata": {},
   "outputs": [
    {
     "data": {
      "text/plain": [
       "13.5"
      ]
     },
     "execution_count": 14,
     "metadata": {},
     "output_type": "execute_result"
    }
   ],
   "source": [
    "sigma_t90d = 6 * M_d / (b*h_ap**2) # M all'apice!\n",
    "sigma_t90d"
   ]
  },
  {
   "cell_type": "code",
   "execution_count": 15,
   "metadata": {},
   "outputs": [
    {
     "data": {
      "text/plain": [
       "0.16513907440630765"
      ]
     },
     "execution_count": 15,
     "metadata": {},
     "output_type": "execute_result"
    }
   ],
   "source": [
    "k_p * sigma_t90d"
   ]
  },
  {
   "cell_type": "code",
   "execution_count": 16,
   "metadata": {},
   "outputs": [
    {
     "data": {
      "text/plain": [
       "True"
      ]
     },
     "execution_count": 16,
     "metadata": {},
     "output_type": "execute_result"
    }
   ],
   "source": [
    "k_p * sigma_t90d < k_dis * k_vol * f_t90d"
   ]
  },
  {
   "cell_type": "code",
   "execution_count": null,
   "metadata": {},
   "outputs": [],
   "source": []
  }
 ],
 "metadata": {
  "kernelspec": {
   "display_name": "Python 3",
   "language": "python",
   "name": "python3"
  },
  "language_info": {
   "codemirror_mode": {
    "name": "ipython",
    "version": 3
   },
   "file_extension": ".py",
   "mimetype": "text/x-python",
   "name": "python",
   "nbconvert_exporter": "python",
   "pygments_lexer": "ipython3",
   "version": "3.7.7"
  }
 },
 "nbformat": 4,
 "nbformat_minor": 4
}
