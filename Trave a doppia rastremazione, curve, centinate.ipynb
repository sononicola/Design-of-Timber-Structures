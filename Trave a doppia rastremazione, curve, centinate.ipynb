{
 "cells": [
  {
   "cell_type": "code",
   "execution_count": 1,
   "metadata": {},
   "outputs": [],
   "source": [
    "import numpy as np\n",
    "from StrengthClasses.glulam_strength_classes import glulam"
   ]
  },
  {
   "cell_type": "code",
   "execution_count": 2,
   "metadata": {},
   "outputs": [],
   "source": [
    "beamType = 'DoppiaRastremazione'\n",
    "\n",
    "# beamType = 'Curva'\n",
    "# beamType = 'Centinata'\n",
    "\n",
    "timberType = 'lamellare'\n",
    "# timberType = 'massiccio'"
   ]
  },
  {
   "cell_type": "code",
   "execution_count": 3,
   "metadata": {},
   "outputs": [],
   "source": [
    "glulam_class = 'GL28h'\n",
    "kmod = 0.9\n",
    "gammaM = 1.45\n",
    "\n",
    "# Sollecitazioni di progetto:\n",
    "Q = 19.56 #kN/m == N/mm\n",
    "SLE_rara_perm = 8.6428 # g1 e g2\n",
    "SLE_rara_acc1 = 10.9167 #carico accidentale principale\n",
    "# SLE_rara_acc2 =  eventualmente aggiungerlo e de-commentare nella W_net\n",
    "\n",
    "# Per gli SLE\n",
    "k_def = 0.6\n",
    "psi2_1 = 0.\n",
    "# psi0_2 =\n",
    "# psi2_2 =\n",
    "\n",
    "\n",
    "alpha = 3.5 # in gradi °\n",
    "b = 240\n",
    "h_ap = 1800-500 # altezza apice\n",
    "h_0 = 1315-500 # altezza appoggio\n",
    "l = 16000 \n",
    "l_appoggio = 300 # Per la verifica compressione 90 appoggio\n",
    "\n",
    "alpha = np.radians(alpha)"
   ]
  },
  {
   "cell_type": "code",
   "execution_count": 4,
   "metadata": {},
   "outputs": [
    {
     "name": "stdout",
     "output_type": "stream",
     "text": [
      "M_d: 625.92 kNm\n",
      "V_d: 156.48 kN\n"
     ]
    }
   ],
   "source": [
    "# SLU\n",
    "M_d = Q * l**2 / 8\n",
    "V_d = Q *l / 2\n",
    "\n",
    "print('M_d:', M_d/10**6, 'kNm')\n",
    "print('V_d:', V_d/10**3, 'kN')"
   ]
  },
  {
   "cell_type": "code",
   "execution_count": 5,
   "metadata": {},
   "outputs": [
    {
     "name": "stdout",
     "output_type": "stream",
     "text": [
      "17.379310344827587 13.841379310344829 0.3103448275862069 17.379310344827587 1.5517241379310345 2.1724137931034484 0.7448275862068966\n"
     ]
    }
   ],
   "source": [
    "# Prende le proprietà del materiale dal dizionario che c'è nell'altro file\n",
    "f_mk, f_t0k, f_t90k, f_c0k, f_c90k, f_vk, f_rk, \\\n",
    "E0mean, E005, E90mean, E9005, Gmean, G05, Grmean, Gr05, \\\n",
    "rho_k, rho_mean = glulam(glulam_class)\n",
    "\n",
    "f_md, f_t0d, f_t90d, f_c0d, f_c90d, f_vd, f_rd = \\\n",
    "(kmod * X_k / gammaM for X_k in glulam(glulam_class)[0:7])\n",
    "\n",
    "print(f_md, f_t0d, f_t90d, f_c0d, f_c90d, f_vd, f_rd)"
   ]
  },
  {
   "cell_type": "code",
   "execution_count": 6,
   "metadata": {},
   "outputs": [
    {
     "name": "stdout",
     "output_type": "stream",
     "text": [
      "V_b: 4.0608 m3\n",
      "V_colmo: 0.3993981103167409 m3\n",
      "2/3 V_b: 2.7072000000000003 m3\n",
      "V: 0.3993981103167409 m3\n"
     ]
    }
   ],
   "source": [
    "# volume della trave \n",
    "V_b = (h_ap + h_0) * l/2 * b \n",
    "V_b = V_b/10**9 # da mm3 a m3\n",
    "print('V_b:', V_b, 'm3')\n",
    "\n",
    "# vale solo per la trave a doppia rastremazione:\n",
    "# volume della zona di colmo\n",
    "# formula alternativa: b * h_ap**2 * (1 - 0.25 * np.tan(alpha)) / 10**9\n",
    "h_ap_05 = h_ap - np.tan(alpha)*0.5*h_ap\n",
    "V_colmo =  (h_ap_05 + h_ap) * 0.5*h_ap * b\n",
    "V_colmo = V_colmo/10**9\n",
    "print('V_colmo:', V_colmo, 'm3')\n",
    "\n",
    "# volume zona di colmo per la normativa\n",
    "V = min(2/3 * V_b , V_colmo)\n",
    "print('2/3 V_b:', 2/3 * V_b, 'm3')\n",
    "print('V:', V, 'm3')\n",
    "\n",
    "V_0 = 0.01"
   ]
  },
  {
   "cell_type": "markdown",
   "metadata": {},
   "source": [
    "HP: $ \\sigma_{m,\\alpha,d} = \\sigma_{m,0,d}$"
   ]
  },
  {
   "cell_type": "markdown",
   "metadata": {},
   "source": [
    "# Parte di trave a doppia rastremazione\n",
    "Capitolo 6.4.3 EC5"
   ]
  },
  {
   "cell_type": "markdown",
   "metadata": {},
   "source": [
    "## 1. Flessione"
   ]
  },
  {
   "cell_type": "markdown",
   "metadata": {},
   "source": [
    "da ricontrollare i k"
   ]
  },
  {
   "cell_type": "code",
   "execution_count": 7,
   "metadata": {},
   "outputs": [
    {
     "data": {
      "text/plain": [
       "1"
      ]
     },
     "execution_count": 7,
     "metadata": {},
     "output_type": "execute_result"
    }
   ],
   "source": [
    "t = 30 # spessore lamelle LVL\n",
    "r_in = 17000 #raggio interno se curva o centinata. altrimenti non serve\n",
    "if beamType == 'DoppiaRastremazione':\n",
    "    k_r = 1\n",
    "else:\n",
    "    k_r = 1 if r_in/t >240 else 0.76 + 0.001 * r_in/t\n",
    "    # t spessore lamelle \n",
    "k_r    "
   ]
  },
  {
   "cell_type": "markdown",
   "metadata": {},
   "source": [
    "#### cambiare il valore dell'angolo! mettere radians dentro le funzioni e mettere alpha_ap =3.5 in cima"
   ]
  },
  {
   "cell_type": "code",
   "execution_count": 8,
   "metadata": {},
   "outputs": [
    {
     "name": "stdout",
     "output_type": "stream",
     "text": [
      "k_l:  1.105828345170509\n",
      "sigma_md:  10.23905440546043\n",
      "f_md:  17.379310344827587\n"
     ]
    },
    {
     "data": {
      "text/plain": [
       "True"
      ]
     },
     "execution_count": 8,
     "metadata": {},
     "output_type": "execute_result"
    }
   ],
   "source": [
    "alpha_ap = np.radians(3.5) # vedi la figura\n",
    "if beamType == 'DoppiaRastremazione':\n",
    "    k_l = k_1 = 1 + 1.4*np.tan(alpha_ap) + 5.4*np.tan(alpha_ap)**2\n",
    "    print('k_l: ', k_l)\n",
    "else:\n",
    "    k_1 = 1 + 1.4*np.tan(alpha_ap) + 5.4*np.tan(alpha_ap)**2\n",
    "    k_2 = 0.35 - 8*np.tan(alpha_ap)\n",
    "    k_3 = 0.6 + 8.3*np.tan(alpha_ap) - 7.8*np.tan(alpha_ap)**2\n",
    "    k_4 = 6*np.tan(alpha_ap)**2\n",
    "    r = r_in + 0.5 * h_ap\n",
    "    k_l = k_1 + k_2*(h_ap/r) + k_3*(h_ap/r)**2 + k_4*(h_ap/r)**3\n",
    "    print(k_1)\n",
    "    print(k_2)\n",
    "    print(k_3)\n",
    "    print(k_4)\n",
    "    print(r)\n",
    "    print('k_l: ', k_l)\n",
    "\n",
    "sigma_md = k_l * 6 * M_d / (b*h_ap**2) # nel punto in mezzeria\n",
    "\n",
    "print('sigma_md: ', sigma_md)\n",
    "print('f_md: ', f_md)\n",
    "sigma_md < k_r *f_md\n"
   ]
  },
  {
   "cell_type": "code",
   "execution_count": 9,
   "metadata": {},
   "outputs": [
    {
     "data": {
      "text/plain": [
       "3.5"
      ]
     },
     "execution_count": 9,
     "metadata": {},
     "output_type": "execute_result"
    }
   ],
   "source": [
    "np.rad2deg(alpha_ap)"
   ]
  },
  {
   "cell_type": "markdown",
   "metadata": {},
   "source": [
    "## 2. Trazione 90 all'apice"
   ]
  },
  {
   "cell_type": "code",
   "execution_count": 10,
   "metadata": {},
   "outputs": [
    {
     "name": "stdout",
     "output_type": "stream",
     "text": [
      "k_dis: 1.4\n",
      "k_vol: 0.478320284636461\n"
     ]
    }
   ],
   "source": [
    "k_dis =  1.4 if beamType == 'DoppiaRastremazione' or  beamType == 'Curva' else  1.7\n",
    "print('k_dis:', k_dis)\n",
    "\n",
    "k_vol = 1 if timberType == 'massiccio' else (V_0/V)**0.2 \n",
    "print('k_vol:', k_vol)"
   ]
  },
  {
   "cell_type": "code",
   "execution_count": 11,
   "metadata": {},
   "outputs": [
    {
     "data": {
      "text/plain": [
       "0.20782191677308304"
      ]
     },
     "execution_count": 11,
     "metadata": {},
     "output_type": "execute_result"
    }
   ],
   "source": [
    "k_dis * k_vol * f_t90d"
   ]
  },
  {
   "cell_type": "markdown",
   "metadata": {},
   "source": [
    "### aggiungere gli altri termini per k_p"
   ]
  },
  {
   "cell_type": "code",
   "execution_count": 12,
   "metadata": {},
   "outputs": [],
   "source": [
    "# k_p solo per trave doppia rastremazione. aggiungere le altre!\n",
    "k_p = 0.2 * np.tan(alpha) \n",
    "\n",
    "def sigma_t90d(M,b,h,k_p):\n",
    "    sigma_t90d = 6 * M / (b*h**2) * k_p\n",
    "    print('M: ', M)\n",
    "    print('b: ', b)\n",
    "    print('h: ', h)\n",
    "    print('k_p: ', k_p)\n",
    "    print('sigma_t90d: ', sigma_t90d)\n",
    "    return sigma_t90d"
   ]
  },
  {
   "cell_type": "code",
   "execution_count": 13,
   "metadata": {},
   "outputs": [
    {
     "name": "stdout",
     "output_type": "stream",
     "text": [
      "M:  625920000.0\n",
      "b:  240\n",
      "h:  1300\n",
      "k_p:  0.012232524030096862\n",
      "sigma_t90d:  0.1132630390668377\n"
     ]
    }
   ],
   "source": [
    "sigma_t90d_ap = sigma_t90d(M_d,b,h_ap,k_p)"
   ]
  },
  {
   "cell_type": "code",
   "execution_count": 14,
   "metadata": {},
   "outputs": [
    {
     "name": "stdout",
     "output_type": "stream",
     "text": [
      "S: 0.1132630390668377\n",
      "R: 0.20782191677308304\n"
     ]
    },
    {
     "data": {
      "text/plain": [
       "True"
      ]
     },
     "execution_count": 14,
     "metadata": {},
     "output_type": "execute_result"
    }
   ],
   "source": [
    "print('S:', sigma_t90d_ap)\n",
    "print('R:', k_dis * k_vol * f_t90d)\n",
    "\n",
    "sigma_t90d_ap < k_dis * k_vol * f_t90d"
   ]
  },
  {
   "cell_type": "markdown",
   "metadata": {},
   "source": [
    "## 3. Taglio + Trazione a $0.5\\cdot h_{ap}$ "
   ]
  },
  {
   "cell_type": "code",
   "execution_count": 15,
   "metadata": {},
   "outputs": [
    {
     "name": "stdout",
     "output_type": "stream",
     "text": [
      "x di 0.5*h_ap:  7350.0\n",
      "h trave a 0.5*h_ap:  1260.2442969021852\n",
      "V_05ap: 12714.0\n",
      "M_05ap: 621787950.0\n"
     ]
    }
   ],
   "source": [
    "x_05ap = l/2 - 0.5*h_ap\n",
    "print('x di 0.5*h_ap: ', x_05ap) \n",
    "print('h trave a 0.5*h_ap: ', h_ap_05)\n",
    "\n",
    "V_05ap = Q * (2 * 0.5*h_ap) / 2\n",
    "M_05ap = V_d * (l/2 - 0.5*h_ap) - Q*(l/2 - 0.5*h_ap)**2 / 2\n",
    "\n",
    "print('V_05ap:', V_05ap)\n",
    "print('M_05ap:', M_05ap)"
   ]
  },
  {
   "cell_type": "code",
   "execution_count": 16,
   "metadata": {},
   "outputs": [
    {
     "name": "stdout",
     "output_type": "stream",
     "text": [
      "b_eff: 171.42857142857144\n"
     ]
    },
    {
     "data": {
      "text/plain": [
       "0.08827455142900326"
      ]
     },
     "execution_count": 16,
     "metadata": {},
     "output_type": "execute_result"
    }
   ],
   "source": [
    "b_eff = 2.5/f_vk * b\n",
    "print('b_eff:', b_eff)\n",
    "\n",
    "tau_d_05ap = 1.5*V_05ap/(b_eff*h_ap_05)\n",
    "#tau_d_05ap = 1.5*V/(0.67*b*h_ap_05)\n",
    "tau_d_05ap"
   ]
  },
  {
   "cell_type": "code",
   "execution_count": 17,
   "metadata": {},
   "outputs": [
    {
     "name": "stdout",
     "output_type": "stream",
     "text": [
      "M:  621787950.0\n",
      "b:  240\n",
      "h:  1260.2442969021852\n",
      "k_p:  0.012232524030096862\n",
      "sigma_t90d:  0.11972611934999305\n"
     ]
    }
   ],
   "source": [
    "sigma_t90d_05ap = sigma_t90d(M_05ap , b , h_ap_05 , k_p)"
   ]
  },
  {
   "cell_type": "code",
   "execution_count": 18,
   "metadata": {},
   "outputs": [
    {
     "data": {
      "text/plain": [
       "0.6167338991636564"
      ]
     },
     "execution_count": 18,
     "metadata": {},
     "output_type": "execute_result"
    }
   ],
   "source": [
    "tau_d_05ap/f_vd + sigma_t90d_05ap/(f_t90d * k_dis * k_vol) "
   ]
  },
  {
   "cell_type": "code",
   "execution_count": 19,
   "metadata": {},
   "outputs": [
    {
     "name": "stdout",
     "output_type": "stream",
     "text": [
      "k_dis:  1.4\n",
      "k_vol:  0.478320284636461\n"
     ]
    },
    {
     "data": {
      "text/plain": [
       "True"
      ]
     },
     "execution_count": 19,
     "metadata": {},
     "output_type": "execute_result"
    }
   ],
   "source": [
    "print('k_dis: ', k_dis)\n",
    "print('k_vol: ', k_vol)\n",
    "\n",
    "tau_d_05ap/f_vd + sigma_t90d_05ap/(f_t90d * k_dis * k_vol) < 1"
   ]
  },
  {
   "cell_type": "markdown",
   "metadata": {},
   "source": [
    "# Parte di trave a rastremazione semplice\n",
    "Capitolo 6.4.2 EC5. Fino a $0.5 h_{ap}$ dall'asse di simmetria"
   ]
  },
  {
   "cell_type": "code",
   "execution_count": 20,
   "metadata": {},
   "outputs": [
    {
     "name": "stdout",
     "output_type": "stream",
     "text": [
      "x_max:  5015.384615384615\n",
      "h_max:  1117.4531029354775\n",
      "M_xmax:  538800454.4378698\n",
      "sigma_md_max:  10.787215389534865\n"
     ]
    }
   ],
   "source": [
    "# Solo se trave simmetrica e carico distribuito!\n",
    "x_max = l * h_0 / (2*h_ap)\n",
    "print('x_max: ', x_max)\n",
    "\n",
    "h_max = h_ap - np.tan(alpha)*(l/2 - x_max) # altezza corrispondente alla x_max\n",
    "print('h_max: ', h_max)\n",
    "\n",
    "M_xmax = V_d * x_max - Q*x_max**2 / 2\n",
    "print('M_xmax: ', M_xmax)\n",
    "\n",
    "sigma_md_max = 6*M_xmax / (b*h_max**2)\n",
    "#sigma_md_max = 0.75*Q*l**2/b * 1/(h_0*(2*h_ap-h_0))\n",
    "print('sigma_md_max: ', sigma_md_max)"
   ]
  },
  {
   "cell_type": "markdown",
   "metadata": {},
   "source": [
    "### 5. Bordo inclinato (compresso)\n",
    "\n",
    "calcolare l'altro k_m se il momento va dall'altra parte e quindi è teso"
   ]
  },
  {
   "cell_type": "code",
   "execution_count": 21,
   "metadata": {},
   "outputs": [
    {
     "data": {
      "text/plain": [
       "0.9499446894142974"
      ]
     },
     "execution_count": 21,
     "metadata": {},
     "output_type": "execute_result"
    }
   ],
   "source": [
    "k_mAlpha_compressione = 1 / np.sqrt(1 + (np.tan(alpha)*f_md/(1.5*f_vd))**2 + ((np.tan(alpha))**2*f_md/f_c90d)**2 )\n",
    "k_mAlpha_compressione"
   ]
  },
  {
   "cell_type": "code",
   "execution_count": 22,
   "metadata": {},
   "outputs": [
    {
     "data": {
      "text/plain": [
       "16.50938356775193"
      ]
     },
     "execution_count": 22,
     "metadata": {},
     "output_type": "execute_result"
    }
   ],
   "source": [
    "k_mAlpha_compressione * f_md"
   ]
  },
  {
   "cell_type": "code",
   "execution_count": 23,
   "metadata": {},
   "outputs": [
    {
     "data": {
      "text/plain": [
       "True"
      ]
     },
     "execution_count": 23,
     "metadata": {},
     "output_type": "execute_result"
    }
   ],
   "source": [
    "sigma_md_max < k_mAlpha_compressione * f_md"
   ]
  },
  {
   "cell_type": "markdown",
   "metadata": {},
   "source": [
    "### 6. Bordo non inclinato (teso)"
   ]
  },
  {
   "cell_type": "code",
   "execution_count": 24,
   "metadata": {},
   "outputs": [
    {
     "name": "stdout",
     "output_type": "stream",
     "text": [
      "sigma_md_max:  10.787215389534865\n",
      "f_md:  17.379310344827587\n"
     ]
    },
    {
     "data": {
      "text/plain": [
       "True"
      ]
     },
     "execution_count": 24,
     "metadata": {},
     "output_type": "execute_result"
    }
   ],
   "source": [
    "print('sigma_md_max: ', sigma_md_max)\n",
    "print('f_md: ', f_md)\n",
    "\n",
    "sigma_md_max < f_md"
   ]
  },
  {
   "cell_type": "markdown",
   "metadata": {},
   "source": [
    "## 4. Stabilità flessotorsionale al colmo"
   ]
  },
  {
   "cell_type": "code",
   "execution_count": 25,
   "metadata": {},
   "outputs": [
    {
     "name": "stdout",
     "output_type": "stream",
     "text": [
      "l_eff:  14400.0\n",
      "l_eff/l:  0.9\n",
      "sigma_mcrit:  23.05298759340608\n",
      "lambda_relm:  1.1020858017945503\n",
      "k_crit:  0.7334356486540874\n"
     ]
    }
   ],
   "source": [
    "# Vedi pagina 291 del libro\n",
    "h=h_ap\n",
    "\n",
    "l_t = l # distanza tra due ritegni torsionali successivi \n",
    "a1 = 1.13\n",
    "a2 = 1.44\n",
    "az = h/2\n",
    "\n",
    "# caso generico per il RETTANGOLO e non semplificato per h/b > 4\n",
    "B = E0mean * b**3 * h / 12 # rigidezza flessionale attorno asse z\n",
    "T = Gmean * b**3 * h / (3*(1 + 0.6 * b/h)) # rigidezza torsionale \n",
    "\n",
    "#l_eff = l_t / (a1 * (1 - a2 * az/l_t * np.sqrt(B/T)))\n",
    "l_eff = 0.9*l\n",
    "\n",
    "sigma_mcrit = np.pi/l_eff * b**2 / h * E005 * np.sqrt(Gmean/E0mean)\n",
    "lambda_relm = np.sqrt(f_mk/sigma_mcrit)\n",
    "if lambda_relm < 0.75:\n",
    "    k_crit = 1\n",
    "elif lambda_relm < 1.14:\n",
    "    k_crit = 1.56 - .75*lambda_relm\n",
    "else:\n",
    "    k_crit = 1/(lambda_relm**2)\n",
    "\n",
    "print('l_eff: ', l_eff)\n",
    "print('l_eff/l: ', l_eff/l)\n",
    "print('sigma_mcrit: ', sigma_mcrit)\n",
    "print('lambda_relm: ', lambda_relm)\n",
    "print('k_crit: ', k_crit)"
   ]
  },
  {
   "cell_type": "code",
   "execution_count": 26,
   "metadata": {},
   "outputs": [
    {
     "data": {
      "text/plain": [
       "12.746605755919312"
      ]
     },
     "execution_count": 26,
     "metadata": {},
     "output_type": "execute_result"
    }
   ],
   "source": [
    "k_crit * f_md"
   ]
  },
  {
   "cell_type": "code",
   "execution_count": 27,
   "metadata": {},
   "outputs": [
    {
     "data": {
      "text/plain": [
       "10.23905440546043"
      ]
     },
     "execution_count": 27,
     "metadata": {},
     "output_type": "execute_result"
    }
   ],
   "source": [
    "sigma_md"
   ]
  },
  {
   "cell_type": "code",
   "execution_count": 28,
   "metadata": {},
   "outputs": [
    {
     "data": {
      "text/plain": [
       "True"
      ]
     },
     "execution_count": 28,
     "metadata": {},
     "output_type": "execute_result"
    }
   ],
   "source": [
    "sigma_md < k_crit * f_md #sigma_md con il k_l ?"
   ]
  },
  {
   "cell_type": "markdown",
   "metadata": {},
   "source": [
    "## 7. Taglio all'appoggio"
   ]
  },
  {
   "cell_type": "code",
   "execution_count": 29,
   "metadata": {},
   "outputs": [
    {
     "name": "stdout",
     "output_type": "stream",
     "text": [
      "b_eff: 171.42857142857144\n",
      "tau_d_appoggio: 1.6799999999999997\n",
      "f_vd: 2.1724137931034484\n"
     ]
    },
    {
     "data": {
      "text/plain": [
       "True"
      ]
     },
     "execution_count": 29,
     "metadata": {},
     "output_type": "execute_result"
    }
   ],
   "source": [
    "b_eff = 2.5/f_vk * b\n",
    "print('b_eff:', b_eff)\n",
    "\n",
    "tau_d_appoggio = 1.5*V_d/(b_eff*h_0)\n",
    "print('tau_d_appoggio:', tau_d_appoggio)\n",
    "print('f_vd:', f_vd)\n",
    "\n",
    "tau_d_appoggio < f_vd"
   ]
  },
  {
   "cell_type": "markdown",
   "metadata": {},
   "source": [
    "## 8. Compressione 90 appoggio"
   ]
  },
  {
   "cell_type": "code",
   "execution_count": 30,
   "metadata": {},
   "outputs": [
    {
     "name": "stdout",
     "output_type": "stream",
     "text": [
      "A_ef: 79200\n",
      "sigma_c90_appoggio: 1.9757575757575758\n",
      "k_c90*f_c90d: 2.7155172413793105\n"
     ]
    },
    {
     "data": {
      "text/plain": [
       "True"
      ]
     },
     "execution_count": 30,
     "metadata": {},
     "output_type": "execute_result"
    }
   ],
   "source": [
    "k_c90 = 1.75\n",
    "A_ef = b* (l_appoggio+30+0) # min(30mm , a , l_appoggio, l/2) sx e dx\n",
    "print('A_ef:', A_ef)\n",
    "\n",
    "sigma_c90_appoggio = V_d / A_ef\n",
    "print('sigma_c90_appoggio:', sigma_c90_appoggio)\n",
    "\n",
    "print('k_c90*f_c90d:', k_c90*f_c90d)\n",
    "sigma_c90_appoggio < k_c90 * f_c90d"
   ]
  },
  {
   "cell_type": "code",
   "execution_count": null,
   "metadata": {},
   "outputs": [],
   "source": []
  },
  {
   "cell_type": "markdown",
   "metadata": {},
   "source": [
    "# 9. Freccia"
   ]
  },
  {
   "cell_type": "code",
   "execution_count": 31,
   "metadata": {},
   "outputs": [
    {
     "name": "stdout",
     "output_type": "stream",
     "text": [
      "k_m:  0.3608240199027193\n",
      "k_v:  0.8456009531060444\n",
      "J_0: 10.8268675 * 10**9 mm4\n",
      "\n",
      "\n",
      "w_inst(Q = 1) =  2.512444172334642\n",
      "w_inst_perm =  21.71455249265384\n",
      "w_inst_acc1 =  27.427599296125585\n",
      "L/SLE_rara_acc1 =  583.3540087578921\n"
     ]
    },
    {
     "data": {
      "text/plain": [
       "True"
      ]
     },
     "execution_count": 31,
     "metadata": {},
     "output_type": "execute_result"
    }
   ],
   "source": [
    "# Per trave a doppia rastremazione:\n",
    "k_m = (h_0/h_ap)**3 * 1/(0.15+0.85*(h_0/h_ap))\n",
    "print('k_m: ', k_m)\n",
    "k_v = 2/(1 + (h_ap/h_0)**(2/3))\n",
    "print('k_v: ', k_v)\n",
    "# Nella sezone di appoggio e poi vengono usati i due coefficienti\n",
    "J_0 = b*h_0**3 / 12\n",
    "print('J_0:', J_0/10**9, '* 10**9 mm4')\n",
    "print('\\n')\n",
    "\n",
    "chi = 1.2\n",
    "def w_inst_doppiaRastr(q): # Solo per doppia rastremazione:\n",
    "    w_inst_M = k_m * ( 5/384 * q * l**4 / (E0mean * J_0) )\n",
    "    w_inst_V = k_v * ( chi * 1/8 * q * l**2 / (Gmean * b * h_0) )\n",
    "    w_inst = w_inst_M + w_inst_V\n",
    "    return w_inst\n",
    "print('w_inst(Q = 1) = ',w_inst_doppiaRastr(1))\n",
    "\n",
    "w_inst_perm = w_inst_doppiaRastr(SLE_rara_perm)\n",
    "print('w_inst_perm = ',w_inst_perm)\n",
    "\n",
    "w_inst_acc1 = w_inst_doppiaRastr(SLE_rara_acc1)\n",
    "print('w_inst_acc1 = ',w_inst_acc1)\n",
    "print('L/SLE_rara_acc1 = ',l/w_inst_acc1)\n",
    "l/w_inst_acc1 > 300\n"
   ]
  },
  {
   "cell_type": "markdown",
   "metadata": {},
   "source": [
    "### (definire kdef e gli psi all'inizio della pagina)"
   ]
  },
  {
   "cell_type": "code",
   "execution_count": 32,
   "metadata": {},
   "outputs": [
    {
     "name": "stdout",
     "output_type": "stream",
     "text": [
      "w_netFin_perm:  34.74328398824615\n",
      "w_netFin_acc1:  27.427599296125585\n",
      "\n",
      "\n",
      "w_netFin_tot:  62.17088328437173\n",
      "l/w_netFin_tot:  257.355198362157\n"
     ]
    },
    {
     "data": {
      "text/plain": [
       "True"
      ]
     },
     "execution_count": 32,
     "metadata": {},
     "output_type": "execute_result"
    }
   ],
   "source": [
    "w_netFin_perm = w_inst_perm*(1 + k_def) \n",
    "print('w_netFin_perm: ', w_netFin_perm)\n",
    "\n",
    "w_netFin_acc1 = w_inst_acc1*(1 + k_def*psi2_1)\n",
    "print('w_netFin_acc1: ', w_netFin_acc1)\n",
    "\n",
    "# w_netFin_acc2 = w_inst_acc2*(psi0_2 + k_def*psi2_2)\n",
    "# print('w_netFin_acc2: ', w_netFin_acc2)\n",
    "\n",
    "w_netFin_tot = w_netFin_perm + w_netFin_acc1 # + w_netFin_acc2\n",
    "print('\\n')\n",
    "print('w_netFin_tot: ', w_netFin_tot)\n",
    "print('l/w_netFin_tot: ', l/w_netFin_tot)\n",
    "l/w_netFin_tot > 200"
   ]
  }
 ],
 "metadata": {
  "kernelspec": {
   "display_name": "Python 3",
   "language": "python",
   "name": "python3"
  },
  "language_info": {
   "codemirror_mode": {
    "name": "ipython",
    "version": 3
   },
   "file_extension": ".py",
   "mimetype": "text/x-python",
   "name": "python",
   "nbconvert_exporter": "python",
   "pygments_lexer": "ipython3",
   "version": "3.7.7"
  }
 },
 "nbformat": 4,
 "nbformat_minor": 4
}
