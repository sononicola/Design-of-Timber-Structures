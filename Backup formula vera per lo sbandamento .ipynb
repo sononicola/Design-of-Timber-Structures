{
 "cells": [
  {
   "cell_type": "code",
   "execution_count": null,
   "metadata": {},
   "outputs": [],
   "source": [
    "# Vedi pagina 291 del libro\n",
    "h=h_ap\n",
    "\n",
    "l_t = l # distanza tra due ritegni torsionali successivi \n",
    "a1 = 1.13\n",
    "a2 = 1.44\n",
    "az = h/2\n",
    "\n",
    "# caso generico per il RETTANGOLO e non semplificato per h/b > 4\n",
    "B = E0mean * b**3 * h / 12 # rigidezza flessionale attorno asse z\n",
    "T = Gmean * b**3 * h / (3*(1 + 0.6 * b/h)) # rigidezza torsionale \n",
    "\n",
    "#l_eff = l_t / (a1 * (1 - a2 * az/l_t * np.sqrt(B/T)))\n",
    "l_eff = 0.9*l\n",
    "\n",
    "sigma_mcrit = np.pi/l_eff * b**2 / h * E005 * np.sqrt(Gmean/E0mean)\n",
    "lambda_relm = np.sqrt(f_mk/sigma_mcrit)\n",
    "if lambda_relm < 0.75:\n",
    "    k_crit = 1\n",
    "elif lambda_relm < 1.14:\n",
    "    k_crit = 1.56 - .75*lambda_relm\n",
    "else:\n",
    "    k_crit = 1/(lambda_relm**2)\n",
    "\n",
    "print('l_eff: ', l_eff)\n",
    "print('l_eff/l: ', l_eff/l)\n",
    "print('sigma_mcrit: ', sigma_mcrit)\n",
    "print('lambda_relm: ', lambda_relm)\n",
    "print('k_crit: ', k_crit)\n",
    "print('k_crit * f_md: ', k_crit * f_md)\n",
    "print('\\n')\n",
    "print('In mezzeria: ', sigma_md < k_crit * f_md)\n",
    "print('Ad x_max: ', sigma_md_max < k_crit * f_md)"
   ]
  }
 ],
 "metadata": {
  "kernelspec": {
   "display_name": "Python 3",
   "language": "python",
   "name": "python3"
  },
  "language_info": {
   "codemirror_mode": {
    "name": "ipython",
    "version": 3
   },
   "file_extension": ".py",
   "mimetype": "text/x-python",
   "name": "python",
   "nbconvert_exporter": "python",
   "pygments_lexer": "ipython3",
   "version": "3.7.7"
  }
 },
 "nbformat": 4,
 "nbformat_minor": 4
}
